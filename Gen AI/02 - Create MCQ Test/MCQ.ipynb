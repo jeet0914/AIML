{
 "cells": [
  {
   "cell_type": "markdown",
   "id": "84d6efc0",
   "metadata": {},
   "source": [
    "# Create a MCQ Questions From a Given Context"
   ]
  },
  {
   "cell_type": "code",
   "execution_count": 3,
   "id": "9c4cd1bb",
   "metadata": {
    "collapsed": true
   },
   "outputs": [
    {
     "name": "stdout",
     "output_type": "stream",
     "text": [
      "Collecting pinecone-client\n",
      "  Downloading pinecone_client-4.0.0-py3-none-any.whl.metadata (16 kB)\n",
      "Requirement already satisfied: certifi>=2019.11.17 in c:\\users\\pushp\\anaconda3\\lib\\site-packages (from pinecone-client) (2023.11.17)\n",
      "Requirement already satisfied: tqdm>=4.64.1 in c:\\users\\pushp\\anaconda3\\lib\\site-packages (from pinecone-client) (4.66.1)\n",
      "Requirement already satisfied: typing-extensions>=3.7.4 in c:\\users\\pushp\\anaconda3\\lib\\site-packages (from pinecone-client) (4.7.1)\n",
      "Requirement already satisfied: urllib3>=1.26.0 in c:\\users\\pushp\\anaconda3\\lib\\site-packages (from pinecone-client) (1.26.18)\n",
      "Requirement already satisfied: colorama in c:\\users\\pushp\\anaconda3\\lib\\site-packages (from tqdm>=4.64.1->pinecone-client) (0.4.6)\n",
      "Downloading pinecone_client-4.0.0-py3-none-any.whl (214 kB)\n",
      "   ---------------------------------------- 0.0/214.5 kB ? eta -:--:--\n",
      "   ----------- ---------------------------- 61.4/214.5 kB 1.7 MB/s eta 0:00:01\n",
      "   ----------- ---------------------------- 61.4/214.5 kB 1.7 MB/s eta 0:00:01\n",
      "   ---------------------------- ----------- 153.6/214.5 kB 1.3 MB/s eta 0:00:01\n",
      "   ---------------------------- ----------- 153.6/214.5 kB 1.3 MB/s eta 0:00:01\n",
      "   ---------------------------- ----------- 153.6/214.5 kB 1.3 MB/s eta 0:00:01\n",
      "   ---------------------------- ----------- 153.6/214.5 kB 1.3 MB/s eta 0:00:01\n",
      "   -------------------------------------- 214.5/214.5 kB 654.6 kB/s eta 0:00:00\n",
      "Installing collected packages: pinecone-client\n",
      "Successfully installed pinecone-client-4.0.0\n"
     ]
    }
   ],
   "source": [
    "!pip install pinecone-client"
   ]
  },
  {
   "cell_type": "code",
   "execution_count": 5,
   "id": "1d87ef11",
   "metadata": {},
   "outputs": [],
   "source": [
    "import openai\n",
    "import pinecone\n",
    "from langchain.document_loaders import PyPDFLoader, PyPDFDirectoryLoader\n",
    "from langchain.text_splitter import RecursiveCharacterTextSplitter\n",
    "from langchain.embeddings import OpenAIEmbeddings\n",
    "from langchain.embeddings.sentence_transformer import SentenceTransformerEmbeddings\n",
    "from langchain.vectorstores import pinecone\n",
    "from langchain.chains import RetrievalQA"
   ]
  },
  {
   "cell_type": "code",
   "execution_count": 6,
   "id": "8ddc2966",
   "metadata": {},
   "outputs": [],
   "source": [
    "def documentLoader(directory):\n",
    "    loader= PyPDFDirectoryLoader(directory)\n",
    "    docs = loader.load()\n",
    "    return docs"
   ]
  },
  {
   "cell_type": "code",
   "execution_count": 8,
   "id": "8ac01cad",
   "metadata": {},
   "outputs": [
    {
     "data": {
      "text/plain": [
       "3"
      ]
     },
     "execution_count": 8,
     "metadata": {},
     "output_type": "execute_result"
    }
   ],
   "source": [
    "docs = documentLoader('Docs/')\n",
    "len(docs)"
   ]
  },
  {
   "cell_type": "code",
   "execution_count": 10,
   "id": "70c4c1f3",
   "metadata": {
    "scrolled": true
   },
   "outputs": [
    {
     "data": {
      "text/plain": [
       "[Document(page_content=\"India, officially known as the Republic of India, is a diverse and vibrant country located in South\\nAsia. With a rich history spanning thousands of years, India is known for its cultural heritage, \\nreligious diversity, and vast landscapes. From the majestic Himalayas in the north to the serene\\nbackwaters of Kerala in the south, India encompasses a wide range of geographical features, \\nincluding deserts, plains, mountains, and coastlines, making it a land of incredible natural \\nbeauty.\\nIndia is the seventh-largest country by land area and the second-most populous country in the \\nworld, with a population exceeding 1.3 billion people. It is a federal parliamentary democratic \\nrepublic, with a president as the head of state and a prime minister as the head of government. \\nThe country follows a multi-tiered administrative structure, with 28 states and 9 union territories,\\neach having its own elected government.\\nIndia has a rich cultural heritage that has evolved over thousands of years. It is home to various\\nreligions, including Hinduism, Islam, Christianity, Sikhism, Buddhism, and Jainism, among \\nothers. These religions coexist harmoniously, contributing to India's multicultural fabric. \\nFestivals like Diwali, Eid, Christmas, and Holi are celebrated with great enthusiasm and bring \\npeople from different communities together.\\nThe history of India is characterized by ancient civilizations, invasions, and the establishment of\\npowerful empires. The Indus Valley Civilization, one of the world's oldest urban civilizations, \\nflourished in the northwestern part of the Indian subcontinent around 2500 BCE. Over the \\ncenturies, India witnessed the rise and fall of several dynasties, including the Maurya, Gupta, \\nand Mughal empires. The Mughal period, in particular, left a lasting impact on Indian culture, \\nart, and architecture.\\nIndia's struggle for independence from British colonial rule is a significant chapter in its history. \\nLed by Mahatma Gandhi and other freedom fighters, the non-violent resistance movement \\ngained momentum and eventually led to India's independence on August 15, 1947. This day is \\ncelebrated annually as Independence Day.\\nIndia's economy is one of the fastest-growing in the world. It has transitioned from an agrarian \\neconomy to a service-oriented and industrialized economy. The country is known for its \\nsoftware and information technology services, pharmaceuticals, textiles, agriculture, and \\nmanufacturing sectors. Major cities like Mumbai, Delhi, Bangalore, and Chennai are hubs of \\nbusiness and commerce, attracting investments and fostering innovation.\\nDelhi is the capital of India\", metadata={'source': 'Docs\\\\Doc 1.pdf', 'page': 0}),\n",
       " Document(page_content=\"However, India also faces various socio-economic challenges. Poverty, income inequality, and \\nunemployment are persistent issues that the country strives to address. Efforts are being made\\nto improve education, healthcare, infrastructure, and social welfare programs to uplift \\nmarginalized sections of society.\\nEducation plays a vital role in India, with a strong emphasis on academic excellence. The \\ncountry has a vast network of schools, colleges, and universities, producing a large number of \\ngraduates every year. Indian professionals have made significant contributions in various fields \\nglobally, particularly in science, technology, engineering, and mathematics (STEM).\\nThe Indian film industry, popularly known as Bollywood, is a global phenomenon, producing the\\nlargest number of films annually. Indian cinema reflects the diversity and cultural richness of \\nthe country and has a massive following both within India and among the Indian diaspora \\nworldwide.\\nIndian cuisine is renowned for its flavors, spices, and regional specialties. Each state has its \\nown culinary traditions, offering a wide range of vegetarian and non-vegetarian dishes. Indian \\nfood has gained international popularity, with dishes like curry, biryani, dosa, and tandoori \\nbeing enjoyed by people worldwide.\\nThe Indian rupee is the official currency in the Republic of India. The rupee is subdivided into \\n100 paise. The issuance of the currency is controlled by the Reserve Bank of India.\\n₹ The Indian rupee sign ( ) is the currency symbol for the Indian rupee the official currency of \\nIndia\\nTourism is a significant contributor to India's economy. The country attracts millions of visitors \\neach year who come to explore its historical sites, architectural wonders, wildlife sanctuaries, \\nand scenic landscapes. Iconic landmarks such as the Taj Mahal, Jaipur's palaces, Kerala's \\nbackwaters, and the beaches of Goa are popular tourist destinations.\\nIndia's cultural heritage is preserved in its ancient monuments and UNESCO World Heritage \\nSites. From the intricate carvings of Khajuraho temples to the majestic forts of Rajasthan, these\\narchitectural marvels reflect India's rich history and artistic traditions.\\nIndia's diversity extends to its languages as well. While Hindi and English are the official \\nlanguages at the national level, there are 22 officially recognized regional languages, including \\nBengali, Tamil, Telugu, Marathi, Urdu, Punjabi, and Gujarati, among others. This linguistic \\ndiversity is a testament to India's multicultural ethos.\\nIn recent years, India has made significant strides in space exploration. The Indian Space \\nResearch Organization (ISRO) has successfully launched satellites and missions, including the\\nMars Orbiter Mission (MOM), also known as Mangalyaan. These achievements have placed \\nIndia among the elite group of nations with advanced space programs.\", metadata={'source': 'Docs\\\\Doc 2.pdf', 'page': 0}),\n",
       " Document(page_content=\"India's diplomatic influence is also growing on the global stage. The country actively \\nparticipates in international forums and has strong bilateral relations with nations around the \\nworld. India is a founding member of the Non-Aligned Movement and plays an active role in \\nvarious international organizations, such as the United Nations and World Trade Organization.\\nIn conclusion, India is a vast and diverse country with a rich cultural heritage, stunning \\nlandscapes, and a rapidly growing economy. It is a nation where ancient traditions coexist with \\nmodern aspirations. Despite its challenges, India continues to evolve and leave an indelible \\nmark on the world, making it a fascinating and dynamic country to explore.\", metadata={'source': 'Docs\\\\Doc 2.pdf', 'page': 1})]"
      ]
     },
     "execution_count": 10,
     "metadata": {},
     "output_type": "execute_result"
    }
   ],
   "source": [
    "docs"
   ]
  },
  {
   "cell_type": "code",
   "execution_count": 11,
   "id": "61fa4d4e",
   "metadata": {},
   "outputs": [],
   "source": [
    "import os\n",
    "os.environ['OPENAI_API_KEY'] = 'ENTER YOUR KEY' \n",
    "os.environ['HUGGINGFACEHUB_API_TOKEN'] = 'ENTER YOUR KEY' "
   ]
  },
  {
   "cell_type": "code",
   "execution_count": 15,
   "id": "9f26805b",
   "metadata": {},
   "outputs": [],
   "source": [
    "def split_docs(docs, chunk_size = 1000, chunk_overlap = 200):\n",
    "    text_splitter = RecursiveCharacterTextSplitter(chunk_size = chunk_size, chunk_overlap = chunk_overlap)\n",
    "    documents = text_splitter.split_documents(docs)\n",
    "    return documents"
   ]
  },
  {
   "cell_type": "code",
   "execution_count": 16,
   "id": "a26d379c",
   "metadata": {},
   "outputs": [
    {
     "data": {
      "text/plain": [
       "9"
      ]
     },
     "execution_count": 16,
     "metadata": {},
     "output_type": "execute_result"
    }
   ],
   "source": [
    "documents = split_docs(docs)\n",
    "len(documents)"
   ]
  },
  {
   "cell_type": "code",
   "execution_count": 18,
   "id": "fc1325a5",
   "metadata": {},
   "outputs": [
    {
     "data": {
      "text/plain": [
       "Document(page_content='India, officially known as the Republic of India, is a diverse and vibrant country located in South\\nAsia. With a rich history spanning thousands of years, India is known for its cultural heritage, \\nreligious diversity, and vast landscapes. From the majestic Himalayas in the north to the serene\\nbackwaters of Kerala in the south, India encompasses a wide range of geographical features, \\nincluding deserts, plains, mountains, and coastlines, making it a land of incredible natural \\nbeauty.\\nIndia is the seventh-largest country by land area and the second-most populous country in the \\nworld, with a population exceeding 1.3 billion people. It is a federal parliamentary democratic \\nrepublic, with a president as the head of state and a prime minister as the head of government. \\nThe country follows a multi-tiered administrative structure, with 28 states and 9 union territories,\\neach having its own elected government.', metadata={'source': 'Docs\\\\Doc 1.pdf', 'page': 0})"
      ]
     },
     "execution_count": 18,
     "metadata": {},
     "output_type": "execute_result"
    }
   ],
   "source": [
    "documents[0]"
   ]
  },
  {
   "cell_type": "code",
   "execution_count": 19,
   "id": "ba353727",
   "metadata": {},
   "outputs": [],
   "source": [
    "embeddings = SentenceTransformerEmbeddings()"
   ]
  },
  {
   "cell_type": "code",
   "execution_count": 25,
   "id": "dd33b481",
   "metadata": {},
   "outputs": [],
   "source": [
    "query_result = embeddings.embed_query('India, officially known as the Republic of India, is a diverse and vibrant country located in South\\nAsia. With a rich history spanning thousands of years, India is known for its cultural heritage, \\nreligious diversity, and vast landscapes. From the majestic Himalayas in the north to the serene\\nbackwaters of Kerala in the south, India encompasses a wide range of geographical features, \\nincluding deserts, plains, mountains, and coastlines, making it a land of incredible natural \\nbeauty.\\nIndia is the seventh-largest country by land area and the second-most populous country in the \\nworld, with a population exceeding 1.3 billion people. It is a federal parliamentary democratic \\nrepublic, with a president as the head of state and a prime minister as the head of government. \\nThe country follows a multi-tiered administrative structure, with 28 states and 9 union territories,\\neach having its own elected government')"
   ]
  },
  {
   "cell_type": "code",
   "execution_count": 26,
   "id": "54cfe53a",
   "metadata": {},
   "outputs": [
    {
     "data": {
      "text/plain": [
       "768"
      ]
     },
     "execution_count": 26,
     "metadata": {},
     "output_type": "execute_result"
    }
   ],
   "source": [
    "len(query_result)"
   ]
  },
  {
   "cell_type": "code",
   "execution_count": 27,
   "id": "d04b66b8",
   "metadata": {},
   "outputs": [],
   "source": [
    "from pinecone import Pinecone as PineconeClient\n",
    "from langchain_community.vectorstores import Pinecone"
   ]
  },
  {
   "cell_type": "code",
   "execution_count": 30,
   "id": "acd44b69",
   "metadata": {},
   "outputs": [],
   "source": [
    "os.environ[\"PINECONE_API_KEY\"] = <>\n",
    "PINECONE_API_KEY=os.getenv(\"‘PINECONE_API_KEY’\")\n",
    "\n",
    "PineconeClient(api_key=PINECONE_API_KEY, environment=\"gcp-starter\")\n",
    "index_name=\"mcq\"\n",
    "index = Pinecone.from_documents(documents, embeddings, index_name=index_name)"
   ]
  },
  {
   "cell_type": "code",
   "execution_count": 31,
   "id": "317a63d2",
   "metadata": {},
   "outputs": [],
   "source": [
    "def similar_docs(query, k=2):\n",
    "    similar_docs = index.similarity_search(query, k=k)\n",
    "    return similar_docs"
   ]
  },
  {
   "cell_type": "code",
   "execution_count": 32,
   "id": "52b5a480",
   "metadata": {},
   "outputs": [],
   "source": [
    "from langchain.chains.question_answering import load_qa_chain"
   ]
  },
  {
   "cell_type": "code",
   "execution_count": 33,
   "id": "3709c9ae",
   "metadata": {},
   "outputs": [],
   "source": [
    "from langchain.llms import HuggingFaceEndpoint"
   ]
  },
  {
   "cell_type": "code",
   "execution_count": 34,
   "id": "3c980499",
   "metadata": {},
   "outputs": [
    {
     "name": "stdout",
     "output_type": "stream",
     "text": [
      "Token has not been saved to git credential helper. Pass `add_to_git_credential=True` if you want to set the git credential as well.\n",
      "Token is valid (permission: read).\n",
      "Your token has been saved to C:\\Users\\pushp\\.cache\\huggingface\\token\n",
      "Login successful\n"
     ]
    },
    {
     "data": {
      "text/plain": [
       "HuggingFaceEndpoint(repo_id='mistralai/Mistral-7B-Instruct-v0.2', model='mistralai/Mistral-7B-Instruct-v0.2', client=<InferenceClient(model='mistralai/Mistral-7B-Instruct-v0.2', timeout=120)>, async_client=<InferenceClient(model='mistralai/Mistral-7B-Instruct-v0.2', timeout=120)>)"
      ]
     },
     "execution_count": 34,
     "metadata": {},
     "output_type": "execute_result"
    }
   ],
   "source": [
    "llm = HuggingFaceEndpoint(repo_id=\"mistralai/Mistral-7B-Instruct-v0.2\") # Model link : https://huggingface.co/mistralai/Mistral-7B-Instruct-v0.2\n",
    "llm"
   ]
  },
  {
   "cell_type": "code",
   "execution_count": 35,
   "id": "91d5ca72",
   "metadata": {},
   "outputs": [],
   "source": [
    "chain = load_qa_chain(llm=llm, chain_type='stuff')"
   ]
  },
  {
   "cell_type": "code",
   "execution_count": 62,
   "id": "b30437c7",
   "metadata": {},
   "outputs": [],
   "source": [
    "def get_answer(query):\n",
    "    similar_documents = similar_docs(query)\n",
    "    print(similar_documents)\n",
    "    response = chain.run(input_documents = similar_documents, question = query)\n",
    "    print(response)\n",
    "    return response\n",
    "    "
   ]
  },
  {
   "cell_type": "code",
   "execution_count": 63,
   "id": "868138b8",
   "metadata": {},
   "outputs": [
    {
     "name": "stdout",
     "output_type": "stream",
     "text": [
      "[Document(page_content=\"India's diplomatic influence is also growing on the global stage. The country actively \\nparticipates in international forums and has strong bilateral relations with nations around the \\nworld. India is a founding member of the Non-Aligned Movement and plays an active role in \\nvarious international organizations, such as the United Nations and World Trade Organization.\\nIn conclusion, India is a vast and diverse country with a rich cultural heritage, stunning \\nlandscapes, and a rapidly growing economy. It is a nation where ancient traditions coexist with \\nmodern aspirations. Despite its challenges, India continues to evolve and leave an indelible \\nmark on the world, making it a fascinating and dynamic country to explore.\", metadata={'page': 1.0, 'source': 'Docs\\\\Doc 2.pdf'}), Document(page_content=\"India's diplomatic influence is also growing on the global stage. The country actively \\nparticipates in international forums and has strong bilateral relations with nations around the \\nworld. India is a founding member of the Non-Aligned Movement and plays an active role in \\nvarious international organizations, such as the United Nations and World Trade Organization.\\nIn conclusion, India is a vast and diverse country with a rich cultural heritage, stunning \\nlandscapes, and a rapidly growing economy. It is a nation where ancient traditions coexist with \\nmodern aspirations. Despite its challenges, India continues to evolve and leave an indelible \\nmark on the world, making it a fascinating and dynamic country to explore.\", metadata={'page': 1.0, 'source': 'Docs\\\\Doc 2.pdf'})]\n",
      " India's economy is rapidly growing. India is a member of the World Trade Organization and plays an active role in international organizations such as the United Nations. The country has strong bilateral relations with nations around the world and is a founding member of the Non-Aligned Movement. Despite challenges, India continues to evolve and leave an indelible mark on the world.\n"
     ]
    }
   ],
   "source": [
    "answer = get_answer(\"how is india's economy ?\")"
   ]
  },
  {
   "cell_type": "code",
   "execution_count": 64,
   "id": "395fa93e",
   "metadata": {},
   "outputs": [
    {
     "data": {
      "text/plain": [
       "\" India's economy is rapidly growing. India is a member of the World Trade Organization and plays an active role in international organizations such as the United Nations. The country has strong bilateral relations with nations around the world and is a founding member of the Non-Aligned Movement. Despite challenges, India continues to evolve and leave an indelible mark on the world.\""
      ]
     },
     "execution_count": 64,
     "metadata": {},
     "output_type": "execute_result"
    }
   ],
   "source": [
    "answer"
   ]
  },
  {
   "cell_type": "code",
   "execution_count": 47,
   "id": "6c580c66",
   "metadata": {},
   "outputs": [],
   "source": [
    "from langchain.output_parsers import StructuredOutputParser, ResponseSchema"
   ]
  },
  {
   "cell_type": "code",
   "execution_count": 48,
   "id": "68d2799d",
   "metadata": {},
   "outputs": [],
   "source": [
    "response_schemas = [\n",
    "    ResponseSchema(name=\"question\", description=\"Question generated from provided input text data.\"),\n",
    "    ResponseSchema(name=\"choices\", description=\"Available options for a multiple-choice question in comma separated.\"),\n",
    "    ResponseSchema(name=\"answer\", description=\"Correct answer for the asked question.\")\n",
    "]"
   ]
  },
  {
   "cell_type": "code",
   "execution_count": 50,
   "id": "0d2d8684",
   "metadata": {},
   "outputs": [],
   "source": [
    "output_parser = StructuredOutputParser.from_response_schemas(response_schemas=response_schemas)"
   ]
  },
  {
   "cell_type": "code",
   "execution_count": 52,
   "id": "6b8f9e2b",
   "metadata": {},
   "outputs": [
    {
     "name": "stdout",
     "output_type": "stream",
     "text": [
      "The output should be a markdown code snippet formatted in the following schema, including the leading and trailing \"```json\" and \"```\":\n",
      "\n",
      "```json\n",
      "{\n",
      "\t\"question\": string  // Question generated from provided input text data.\n",
      "\t\"choices\": string  // Available options for a multiple-choice question in comma separated.\n",
      "\t\"answer\": string  // Correct answer for the asked question.\n",
      "}\n",
      "```\n"
     ]
    }
   ],
   "source": [
    "print(output_parser.get_format_instructions())"
   ]
  },
  {
   "cell_type": "code",
   "execution_count": null,
   "id": "998b2409",
   "metadata": {},
   "outputs": [],
   "source": [
    "]"
   ]
  },
  {
   "cell_type": "code",
   "execution_count": 41,
   "id": "c704c6ba",
   "metadata": {},
   "outputs": [],
   "source": [
    "from langchain.prompts import PromptTemplate, ChatPromptTemplate, HumanMessagePromptTemplate, SystemMessagePromptTemplate"
   ]
  },
  {
   "cell_type": "code",
   "execution_count": 42,
   "id": "4dc390cf",
   "metadata": {},
   "outputs": [],
   "source": [
    "prompt = PromptTemplate(template=\"How are you {name} ?\",\n",
    "                       input_variables=['name'])"
   ]
  },
  {
   "cell_type": "code",
   "execution_count": 44,
   "id": "1bde127a",
   "metadata": {},
   "outputs": [
    {
     "name": "stdout",
     "output_type": "stream",
     "text": [
      "text='How are you Pushpjeet ?'\n"
     ]
    }
   ],
   "source": [
    "print(prompt.format_prompt(name='Pushpjeet'))"
   ]
  },
  {
   "cell_type": "code",
   "execution_count": 56,
   "id": "f88e717e",
   "metadata": {},
   "outputs": [],
   "source": [
    "prompt = ChatPromptTemplate(messages = [HumanMessagePromptTemplate.from_template\n",
    "    (\"\"\"When a text input is given by the user,please generate multiple choice questions from it along with \n",
    "    the correct answer. \\n{format_instructions}\\n{user_prompt}\"\"\")],\n",
    "                           input_variables=['user_prompt'],\n",
    "                           partial_variables={'format_instructions':output_parser.get_format_instructions()})"
   ]
  },
  {
   "cell_type": "code",
   "execution_count": 83,
   "id": "eaeec364",
   "metadata": {},
   "outputs": [],
   "source": [
    "ans = \"\"\"User Story:\n",
    "As a lead manager,\n",
    "I need to efficiently filter leads by business category and user,\n",
    "So that I can focus on relevant data for targeted analysis and action.\n",
    "\n",
    "Acceptance Criteria:\n",
    "\n",
    "Given that I'm logged in, the lead screen should provide two filters: Business Category and User.\n",
    "The User filter should dynamically display a list of users reporting directly or indirectly to me.\n",
    "Both filters should offer an \"All\" option and support single selection only.\n",
    "Upon selecting a Business Category, the User filter should automatically default to \"All\".\n",
    "Clicking on the User filter should present only the users associated with the selected segment.\n",
    "When choosing a user, the category filter should adjust to display categories related to the selected user.\n",
    "Clicking on the category filter should present \"All\" and other category relevant to the logged-in user, regardless of the user selection from the dropdown.\n",
    "Additional Details:\n",
    "\n",
    "Ensure smooth filter interaction and real-time updates to streamline the user experience.\n",
    "Provide clear visual cues for selected filters and their respective options.\n",
    "Maintain consistency in filter behavior across different user interactions.\"\"\""
   ]
  },
  {
   "cell_type": "code",
   "execution_count": 84,
   "id": "f963c079",
   "metadata": {},
   "outputs": [],
   "source": [
    "final_query = prompt.format_prompt(user_prompt=ans)"
   ]
  },
  {
   "cell_type": "code",
   "execution_count": 85,
   "id": "ffc9251c",
   "metadata": {},
   "outputs": [
    {
     "name": "stdout",
     "output_type": "stream",
     "text": [
      "messages=[HumanMessage(content='When a text input is given by the user,please generate multiple choice questions from it along with \\n    the correct answer. \\nThe output should be a markdown code snippet formatted in the following schema, including the leading and trailing \"```json\" and \"```\":\\n\\n```json\\n{\\n\\t\"question\": string  // Question generated from provided input text data.\\n\\t\"choices\": string  // Available options for a multiple-choice question in comma separated.\\n\\t\"answer\": string  // Correct answer for the asked question.\\n}\\n```\\nUser Story:\\nAs a lead manager,\\nI need to efficiently filter leads by segment and user,\\nSo that I can focus on relevant data for targeted analysis and action.\\n\\nAcceptance Criteria:\\n\\nGiven that I\\'m logged in, the lead screen should provide two filters: Segment and User.\\nThe User filter should dynamically display a list of users reporting directly or indirectly to me.\\nBoth filters should offer an \"All\" option and support single selection only.\\nUpon selecting a segment, the User filter should automatically default to \"All\".\\nClicking on the User filter should present only the users associated with the selected segment.\\nWhen choosing a user, the Segment filter should adjust to display segments related to the selected user.\\nClicking on the Segment filter should present \"All\" and other segments relevant to the logged-in user, regardless of the user selection from the dropdown.\\nAdditional Details:\\n\\nEnsure smooth filter interaction and real-time updates to streamline the user experience.\\nProvide clear visual cues for selected filters and their respective options.\\nMaintain consistency in filter behavior across different user interactions.')]\n"
     ]
    }
   ],
   "source": [
    "print(final_query)"
   ]
  },
  {
   "cell_type": "code",
   "execution_count": 86,
   "id": "4d17007f",
   "metadata": {},
   "outputs": [
    {
     "name": "stdout",
     "output_type": "stream",
     "text": [
      "[HumanMessage(content='When a text input is given by the user,please generate multiple choice questions from it along with \\n    the correct answer. \\nThe output should be a markdown code snippet formatted in the following schema, including the leading and trailing \"```json\" and \"```\":\\n\\n```json\\n{\\n\\t\"question\": string  // Question generated from provided input text data.\\n\\t\"choices\": string  // Available options for a multiple-choice question in comma separated.\\n\\t\"answer\": string  // Correct answer for the asked question.\\n}\\n```\\nUser Story:\\nAs a lead manager,\\nI need to efficiently filter leads by segment and user,\\nSo that I can focus on relevant data for targeted analysis and action.\\n\\nAcceptance Criteria:\\n\\nGiven that I\\'m logged in, the lead screen should provide two filters: Segment and User.\\nThe User filter should dynamically display a list of users reporting directly or indirectly to me.\\nBoth filters should offer an \"All\" option and support single selection only.\\nUpon selecting a segment, the User filter should automatically default to \"All\".\\nClicking on the User filter should present only the users associated with the selected segment.\\nWhen choosing a user, the Segment filter should adjust to display segments related to the selected user.\\nClicking on the Segment filter should present \"All\" and other segments relevant to the logged-in user, regardless of the user selection from the dropdown.\\nAdditional Details:\\n\\nEnsure smooth filter interaction and real-time updates to streamline the user experience.\\nProvide clear visual cues for selected filters and their respective options.\\nMaintain consistency in filter behavior across different user interactions.')]\n"
     ]
    }
   ],
   "source": [
    "print(final_query.to_messages())"
   ]
  },
  {
   "cell_type": "code",
   "execution_count": 87,
   "id": "18b69bc1",
   "metadata": {},
   "outputs": [],
   "source": [
    "from langchain_openai import ChatOpenAI"
   ]
  },
  {
   "cell_type": "code",
   "execution_count": 88,
   "id": "0e765326",
   "metadata": {},
   "outputs": [],
   "source": [
    "chat_model = ChatOpenAI()"
   ]
  },
  {
   "cell_type": "code",
   "execution_count": 89,
   "id": "72390890",
   "metadata": {},
   "outputs": [],
   "source": [
    "final_query_output = chat_model.invoke(final_query.to_messages())"
   ]
  },
  {
   "cell_type": "code",
   "execution_count": 90,
   "id": "2c57f0b5",
   "metadata": {
    "collapsed": true
   },
   "outputs": [
    {
     "name": "stdout",
     "output_type": "stream",
     "text": [
      "```json\n",
      "{\n",
      "\t\"question\": \"What should the lead screen provide for filtering leads?\",\n",
      "\t\"choices\": \"Segment and User, User and Project, Segment and Project, User and Team\",\n",
      "\t\"answer\": \"Segment and User\"\n",
      "}\n",
      "```\n",
      "\n",
      "```json\n",
      "{\n",
      "\t\"question\": \"What should the User filter dynamically display?\",\n",
      "\t\"choices\": \"All users, Only direct reports, Only indirect reports, Only managers\",\n",
      "\t\"answer\": \"All users\"\n",
      "}\n",
      "```\n",
      "\n",
      "```json\n",
      "{\n",
      "\t\"question\": \"What should happen when a segment is selected?\",\n",
      "\t\"choices\": \"User filter defaults to 'All', User filter displays only selected segment users, User filter resets to blank, No change in User filter\",\n",
      "\t\"answer\": \"User filter defaults to 'All'\"\n",
      "}\n",
      "```\n",
      "\n",
      "```json\n",
      "{\n",
      "\t\"question\": \"What should clicking on the User filter present?\",\n",
      "\t\"choices\": \"All users, Only managers, Only team leads, Only sales reps\",\n",
      "\t\"answer\": \"Only the users associated with the selected segment\"\n",
      "}\n",
      "```\n",
      "\n",
      "```json\n",
      "{\n",
      "\t\"question\": \"How should the Segment filter adjust when choosing a user?\",\n",
      "\t\"choices\": \"Display all segments, Display segments related to selected user, Reset to 'All' segments, No change in Segment filter\",\n",
      "\t\"answer\": \"Display segments related to selected user\"\n",
      "}\n",
      "```\n",
      "\n",
      "```json\n",
      "{\n",
      "\t\"question\": \"What should clicking on the Segment filter present?\",\n",
      "\t\"choices\": \"'All' and other segments, Only 'All' segment, No change, Only selected segment\",\n",
      "\t\"answer\": \"'All' and other segments relevant to the logged-in user\"\n",
      "}\n",
      "```\n"
     ]
    }
   ],
   "source": [
    "print(final_query_output.content)"
   ]
  },
  {
   "cell_type": "code",
   "execution_count": 91,
   "id": "6e0751fd",
   "metadata": {},
   "outputs": [],
   "source": [
    "import re"
   ]
  },
  {
   "cell_type": "code",
   "execution_count": 92,
   "id": "917beb6d",
   "metadata": {},
   "outputs": [],
   "source": [
    "markdown_text = final_query_output.content"
   ]
  },
  {
   "cell_type": "code",
   "execution_count": 96,
   "id": "5ff6f5f4",
   "metadata": {},
   "outputs": [
    {
     "name": "stdout",
     "output_type": "stream",
     "text": [
      "\n",
      "\t\"question\": \"What should the lead screen provide for filtering leads?\",\n",
      "\t\"choices\": \"Segment and User, User and Project, Segment and Project, User and Team\",\n",
      "\t\"answer\": \"Segment and User\"\n",
      "\n"
     ]
    }
   ],
   "source": [
    "print(re.search(r'{(.*?)}',  markdown_text, re.DOTALL).group(1))"
   ]
  },
  {
   "cell_type": "code",
   "execution_count": null,
   "id": "188e1370",
   "metadata": {},
   "outputs": [],
   "source": []
  }
 ],
 "metadata": {
  "kernelspec": {
   "display_name": "Python 3 (ipykernel)",
   "language": "python",
   "name": "python3"
  },
  "language_info": {
   "codemirror_mode": {
    "name": "ipython",
    "version": 3
   },
   "file_extension": ".py",
   "mimetype": "text/x-python",
   "name": "python",
   "nbconvert_exporter": "python",
   "pygments_lexer": "ipython3",
   "version": "3.10.9"
  }
 },
 "nbformat": 4,
 "nbformat_minor": 5
}
