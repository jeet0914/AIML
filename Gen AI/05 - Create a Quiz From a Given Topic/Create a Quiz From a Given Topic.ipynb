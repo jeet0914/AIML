{
 "cells": [
  {
   "cell_type": "markdown",
   "id": "dc135ee3",
   "metadata": {},
   "source": [
    "# Create a Quiz From a Given Topic\n",
    "\n",
    "This Gen AI code quickly generates quizzes from any topic by creating relevant questions and answers. Ideal for educators and content creators, it simplifies quiz creation for effective learning and assessment."
   ]
  },
  {
   "cell_type": "code",
   "execution_count": 1,
   "id": "fb768b57",
   "metadata": {},
   "outputs": [],
   "source": [
    "import os"
   ]
  },
  {
   "cell_type": "code",
   "execution_count": 16,
   "id": "d2d2ff8e",
   "metadata": {},
   "outputs": [],
   "source": [
    "os.environ['OPENAI_API_KEY'] = <>"
   ]
  },
  {
   "cell_type": "code",
   "execution_count": 17,
   "id": "fd9135f6",
   "metadata": {},
   "outputs": [],
   "source": [
    "import openai\n",
    "from openai import OpenAI"
   ]
  },
  {
   "cell_type": "code",
   "execution_count": 19,
   "id": "5fc8893a",
   "metadata": {},
   "outputs": [],
   "source": [
    "client = OpenAI()"
   ]
  },
  {
   "cell_type": "code",
   "execution_count": 20,
   "id": "cf027207",
   "metadata": {},
   "outputs": [],
   "source": [
    "def create_system_prompt():\n",
    "    system_prompt = \"You are a helpful assistant for test generation.\"\n",
    "    return system_prompt"
   ]
  },
  {
   "cell_type": "code",
   "execution_count": 21,
   "id": "0b96a510",
   "metadata": {},
   "outputs": [],
   "source": [
    "def create_quiz_prompt(topic, max_question, no_of_options):\n",
    "    prompt = f'Create a multiple choice question on topic {topic} consisting of {max_question} questions ' \\\n",
    "    + f'Each question should have {no_of_options} of possible answers ' \\\n",
    "    + f'Also include the correct answer for each question starting with string \"Correct Answer: \". '\n",
    "    return prompt\n",
    "            "
   ]
  },
  {
   "cell_type": "code",
   "execution_count": 22,
   "id": "82a2baa1",
   "metadata": {},
   "outputs": [
    {
     "data": {
      "text/plain": [
       "'Create a multiple choice question on topic Indian History consisting of 4 questions Each question should have 4 of possible answers Also include the correct answer for each question starting with string \"Correct Answer: \". '"
      ]
     },
     "execution_count": 22,
     "metadata": {},
     "output_type": "execute_result"
    }
   ],
   "source": [
    "create_quiz_prompt(\"Indian History\", 4, 4)"
   ]
  },
  {
   "cell_type": "code",
   "execution_count": 25,
   "id": "cb601a49",
   "metadata": {},
   "outputs": [],
   "source": [
    "response = client.chat.completions.create( \n",
    "    model = \"gpt-3.5-turbo\",\n",
    "    messages = [{\"role\":\"system\", 'content':create_system_prompt()},\n",
    "                {'role':'user', 'content':create_quiz_prompt(\"Indian History\", 4, 4)}\n",
    "               ]\n",
    ")\n",
    "\n",
    "\n"
   ]
  },
  {
   "cell_type": "code",
   "execution_count": 44,
   "id": "280c1e8c",
   "metadata": {},
   "outputs": [
    {
     "data": {
      "text/plain": [
       "'Question 1: \\n\\nWho was the last Mughal Emperor of India?\\n\\nA) Shah Jahan B) Babur C) Aurangzeb D) Bahadur Shah II\\n\\nCorrect Answer: D) Bahadur Shah II\\n\\nQuestion 2: \\n\\nWhich famous Indian freedom fighter is known as the \"Father of the Nation\"?\\n\\nA) Bhagat Singh B) Subhas Chandra Bose C) Mahatma Gandhi D) Jawaharlal Nehru\\n\\nCorrect Answer: C) Mahatma Gandhi\\n\\nQuestion 3:\\n\\nThe Battle of Plassey was fought in the year:\\n\\nA) 1757 B) 1857 C) 1657 D) 1957\\n\\nCorrect Answer: A) 1757\\n\\nQuestion 4:\\n\\nWho was the first Prime Minister of independent India?\\n\\nA) Jawaharlal Nehru B) Sardar Vallabhbhai Patel C) Dr. B.R. Ambedkar D) Subhas Chandra Bose\\n\\nCorrect Answer: A) Jawaharlal Nehru'"
      ]
     },
     "execution_count": 44,
     "metadata": {},
     "output_type": "execute_result"
    }
   ],
   "source": [
    "response.choices[0].message.content"
   ]
  },
  {
   "cell_type": "code",
   "execution_count": null,
   "id": "a0159d9f",
   "metadata": {},
   "outputs": [],
   "source": []
  }
 ],
 "metadata": {
  "kernelspec": {
   "display_name": "Python 3 (ipykernel)",
   "language": "python",
   "name": "python3"
  },
  "language_info": {
   "codemirror_mode": {
    "name": "ipython",
    "version": 3
   },
   "file_extension": ".py",
   "mimetype": "text/x-python",
   "name": "python",
   "nbconvert_exporter": "python",
   "pygments_lexer": "ipython3",
   "version": "3.10.9"
  }
 },
 "nbformat": 4,
 "nbformat_minor": 5
}
