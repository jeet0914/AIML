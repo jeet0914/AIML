{
 "cells": [
  {
   "cell_type": "markdown",
   "id": "d7cb3f48",
   "metadata": {},
   "source": [
    "# Create a Recipe\n",
    "\n",
    "This Gen AI code creates personalized recipes based on ingredients available at home. Users input their available ingredients, and the code generates a tailored recipe while also utilizing DALL·E to produce a visual representation of the dish. Ideal for home cooks looking for creative meal ideas, this tool combines recipe generation with visual inspiration to enhance the cooking experience."
   ]
  },
  {
   "cell_type": "code",
   "execution_count": 1,
   "id": "4f686031",
   "metadata": {},
   "outputs": [],
   "source": [
    "import os"
   ]
  },
  {
   "cell_type": "code",
   "execution_count": null,
   "id": "aea96d7a",
   "metadata": {},
   "outputs": [],
   "source": []
  },
  {
   "cell_type": "code",
   "execution_count": 22,
   "id": "47d6df3e",
   "metadata": {},
   "outputs": [],
   "source": [
    "import openai\n",
    "from openai import OpenAI"
   ]
  },
  {
   "cell_type": "code",
   "execution_count": 23,
   "id": "2328f0ee",
   "metadata": {},
   "outputs": [],
   "source": [
    "client = OpenAI(api_key=os.getenv(\"OPENAI_API_KEY\"))"
   ]
  },
  {
   "cell_type": "code",
   "execution_count": 15,
   "id": "35ae5b9a",
   "metadata": {},
   "outputs": [],
   "source": [
    "def create_system_prompt():\n",
    "    return \"You're are helpful cooking assistant\""
   ]
  },
  {
   "cell_type": "code",
   "execution_count": 16,
   "id": "433258be",
   "metadata": {},
   "outputs": [],
   "source": [
    "def create_dish_prompt(list_of_ingredient):\n",
    "    prompt = f\"Create a detailed recipe based on the following ingredient: {', '.join(list_of_ingredient)}.\\n\"\\\n",
    "            + f\"Additionally, assign a title starting with 'Recipe Title: ' to this dish, which can be used to create a photorealistic image of it.\"\n",
    "    return prompt"
   ]
  },
  {
   "cell_type": "code",
   "execution_count": 17,
   "id": "73d5f424",
   "metadata": {},
   "outputs": [],
   "source": [
    "system_prompt = create_system_prompt()"
   ]
  },
  {
   "cell_type": "code",
   "execution_count": 19,
   "id": "b9b6b757",
   "metadata": {},
   "outputs": [
    {
     "name": "stdout",
     "output_type": "stream",
     "text": [
      "Create a detailed recipe based on the following ingredient: Eggs, Bacon, Cheese.\n",
      "Additionally, assign a title starting with 'Recipe Title: ' to this dish, which can be used to create a photorealistic image of it.\n"
     ]
    }
   ],
   "source": [
    "recipe_prompt = create_dish_prompt([\"Eggs\", \"Bacon\", \"Cheese\"])\n",
    "print(recipe_prompt)"
   ]
  },
  {
   "cell_type": "code",
   "execution_count": 24,
   "id": "03d736a1",
   "metadata": {},
   "outputs": [],
   "source": [
    "response = client.chat.completions.create(\n",
    "            model = \"gpt-3.5-turbo\",\n",
    "            messages=[\n",
    "                {\"role\":\"system\", \"content\":system_prompt},\n",
    "                {\"role\":\"user\", \"content\":recipe_prompt},\n",
    "            ]\n",
    ")"
   ]
  },
  {
   "cell_type": "code",
   "execution_count": 40,
   "id": "db9d3e1e",
   "metadata": {},
   "outputs": [
    {
     "name": "stdout",
     "output_type": "stream",
     "text": [
      "Recipe Title: Cheesy Bacon and Egg Breakfast Casserole\n",
      "\n",
      "Ingredients:\n",
      "- 8 slices of bacon\n",
      "- 6 large eggs\n",
      "- 1 cup shredded cheddar cheese\n",
      "- Salt and pepper to taste\n",
      "- 1/2 cup milk\n",
      "- 1/2 teaspoon garlic powder\n",
      "- 1/2 teaspoon onion powder\n",
      "- 1/4 teaspoon dried thyme\n",
      "- Cooking spray\n",
      "\n",
      "Instructions:\n",
      "1. Preheat your oven to 350°F (175°C) and grease a 9x9 inch baking dish with cooking spray.\n",
      "2. Cook the bacon in a skillet over medium heat until crispy. Remove from the pan and drain on paper towels. Once cooled, crumble the bacon into small pieces.\n",
      "3. In a medium mixing bowl, whisk together the eggs, milk, garlic powder, onion powder, dried thyme, salt, and pepper until well combined.\n",
      "4. Stir in 3/4 cup of the shredded cheddar cheese and half of the crumbled bacon.\n",
      "5. Pour the egg mixture into the prepared baking dish and sprinkle the remaining bacon and cheese on top.\n",
      "6. Bake in the preheated oven for 25-30 minutes or until the eggs are set and the cheese is melted and bubbly.\n",
      "7. Remove from the oven and let it cool slightly before serving. Cut into squares and enjoy this delicious Cheesy Bacon and Egg Breakfast Casserole!\n",
      "\n",
      "This dish is perfect for a hearty breakfast or brunch, and it's sure to be a crowd-pleaser with its combination of crispy bacon, gooey melted cheese, and fluffy eggs.\n"
     ]
    }
   ],
   "source": [
    "result (response.choices[0].message.content)"
   ]
  },
  {
   "cell_type": "code",
   "execution_count": 41,
   "id": "3a25a5cb",
   "metadata": {},
   "outputs": [],
   "source": [
    "import re"
   ]
  },
  {
   "cell_type": "code",
   "execution_count": 42,
   "id": "23378f2f",
   "metadata": {},
   "outputs": [],
   "source": [
    "def extract_title(recipe):\n",
    "    return re.findall(\"^.*Recipe Title: .*$\", recipe, re.MULTILINE)[0].strip().split(\"Recipe Title: \")[1]"
   ]
  },
  {
   "cell_type": "code",
   "execution_count": 43,
   "id": "c42c9946",
   "metadata": {},
   "outputs": [],
   "source": [
    "recipe = response.choices[0].message.content"
   ]
  },
  {
   "cell_type": "code",
   "execution_count": 46,
   "id": "329e3cd7",
   "metadata": {},
   "outputs": [
    {
     "data": {
      "text/plain": [
       "'Cheesy Bacon and Egg Breakfast Casserole'"
      ]
     },
     "execution_count": 46,
     "metadata": {},
     "output_type": "execute_result"
    }
   ],
   "source": [
    "extract_title(recipe)"
   ]
  },
  {
   "cell_type": "code",
   "execution_count": 47,
   "id": "7e73597e",
   "metadata": {},
   "outputs": [],
   "source": [
    "import requests"
   ]
  },
  {
   "cell_type": "code",
   "execution_count": 48,
   "id": "2655bfbc",
   "metadata": {},
   "outputs": [],
   "source": [
    "import shutil"
   ]
  },
  {
   "cell_type": "code",
   "execution_count": 49,
   "id": "44e72a21",
   "metadata": {},
   "outputs": [],
   "source": [
    "response_image = client.images.generate(\n",
    "    \n",
    "                    model = \"dall-e-3\",\n",
    "                    prompt=extract_title(recipe),\n",
    "                    size = \"1024x1024\",\n",
    "                    n=1,\n",
    "                    quality=\"standard\"\n",
    "                \n",
    ")"
   ]
  },
  {
   "cell_type": "code",
   "execution_count": 55,
   "id": "1019b020",
   "metadata": {},
   "outputs": [],
   "source": [
    "image_url= response_image.data[0].url"
   ]
  },
  {
   "cell_type": "code",
   "execution_count": 57,
   "id": "c850cf7c",
   "metadata": {},
   "outputs": [
    {
     "data": {
      "text/plain": [
       "'https://oaidalleapiprodscus.blob.core.windows.net/private/org-Oe3dPFBB1ZiqizpTQTn9zAEQ/user-VV1AaQPu83fB6cNgYvWRadDC/img-d2hzg38Yeejg125FN8UPu1r9.png?st=2024-08-01T02%3A51%3A47Z&se=2024-08-01T04%3A51%3A47Z&sp=r&sv=2023-11-03&sr=b&rscd=inline&rsct=image/png&skoid=6aaadede-4fb3-4698-a8f6-684d7786b067&sktid=a48cca56-e6da-484e-a814-9c849652bcb3&skt=2024-08-01T00%3A42%3A23Z&ske=2024-08-02T00%3A42%3A23Z&sks=b&skv=2023-11-03&sig=%2BJqQkEGX/CpJSrhhO3rPwrSKqnCPvTLz%2BQ%2BNoa2q6Ak%3D'"
      ]
     },
     "execution_count": 57,
     "metadata": {},
     "output_type": "execute_result"
    }
   ],
   "source": [
    "image_url"
   ]
  },
  {
   "cell_type": "code",
   "execution_count": 59,
   "id": "e1f0f804",
   "metadata": {},
   "outputs": [],
   "source": [
    "temp =requests.get(image_url)"
   ]
  },
  {
   "cell_type": "code",
   "execution_count": 62,
   "id": "11396342",
   "metadata": {},
   "outputs": [],
   "source": [
    "def save_image(image_url, filename):\n",
    "    \n",
    "    image_res = requests.get(image_url, stream=True)\n",
    "    \n",
    "    if image_res.status_code==200:\n",
    "        \n",
    "        with open(filename, 'wb') as f:\n",
    "            shutil.copyfileobj(image_res.raw, f)\n",
    "    else:\n",
    "        print('Error')\n",
    "        \n",
    "    return image_res.status_code "
   ]
  },
  {
   "cell_type": "code",
   "execution_count": 63,
   "id": "0b775a79",
   "metadata": {},
   "outputs": [
    {
     "data": {
      "text/plain": [
       "200"
      ]
     },
     "execution_count": 63,
     "metadata": {},
     "output_type": "execute_result"
    }
   ],
   "source": [
    "save_image(image_url, \"recipe.png\")"
   ]
  },
  {
   "cell_type": "code",
   "execution_count": null,
   "id": "834b31cf",
   "metadata": {},
   "outputs": [],
   "source": [
    " "
   ]
  }
 ],
 "metadata": {
  "kernelspec": {
   "display_name": "Python 3 (ipykernel)",
   "language": "python",
   "name": "python3"
  },
  "language_info": {
   "codemirror_mode": {
    "name": "ipython",
    "version": 3
   },
   "file_extension": ".py",
   "mimetype": "text/x-python",
   "name": "python",
   "nbconvert_exporter": "python",
   "pygments_lexer": "ipython3",
   "version": "3.10.9"
  }
 },
 "nbformat": 4,
 "nbformat_minor": 5
}
