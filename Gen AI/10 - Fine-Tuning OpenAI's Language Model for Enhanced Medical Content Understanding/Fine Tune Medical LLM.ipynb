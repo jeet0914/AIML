{
 "cells": [
  {
   "cell_type": "markdown",
   "id": "c36c64e5",
   "metadata": {},
   "source": [
    "# Fine-Tuning OpenAI's Language Model for Enhanced Medical Content Understanding\n",
    "\n",
    "\n",
    "In this notebook, we'll fine-tune an advanced OpenAI language model on the MTSamples dataset to improve its understanding and generation of medical content, enhancing its utility for healthcare professionals, researchers, and students.\n",
    "\n",
    "While large language models excel in a variety of topics, their performance in specialized fields like medicine can be limited due to restricted exposure to high-quality medical data and the complexity of medical terminology.\n",
    "\n",
    "LLMs are generalists by design and may struggle with the depth and accuracy required for medical content, as they are not specifically trained on specialized medical data and concepts"
   ]
  },
  {
   "cell_type": "code",
   "execution_count": 1,
   "id": "81025e08",
   "metadata": {},
   "outputs": [
    {
     "name": "stdout",
     "output_type": "stream",
     "text": [
      "Requirement already satisfied: openai in c:\\users\\pushp\\anaconda3\\lib\\site-packages (1.14.2)\n",
      "Requirement already satisfied: anyio<5,>=3.5.0 in c:\\users\\pushp\\anaconda3\\lib\\site-packages (from openai) (3.5.0)\n",
      "Requirement already satisfied: distro<2,>=1.7.0 in c:\\users\\pushp\\anaconda3\\lib\\site-packages (from openai) (1.9.0)\n",
      "Requirement already satisfied: httpx<1,>=0.23.0 in c:\\users\\pushp\\anaconda3\\lib\\site-packages (from openai) (0.27.0)\n",
      "Requirement already satisfied: pydantic<3,>=1.9.0 in c:\\users\\pushp\\anaconda3\\lib\\site-packages (from openai) (1.10.14)\n",
      "Requirement already satisfied: sniffio in c:\\users\\pushp\\anaconda3\\lib\\site-packages (from openai) (1.2.0)\n",
      "Requirement already satisfied: tqdm>4 in c:\\users\\pushp\\anaconda3\\lib\\site-packages (from openai) (4.66.1)\n",
      "Requirement already satisfied: typing-extensions<5,>=4.7 in c:\\users\\pushp\\anaconda3\\lib\\site-packages (from openai) (4.7.1)\n",
      "Requirement already satisfied: idna>=2.8 in c:\\users\\pushp\\anaconda3\\lib\\site-packages (from anyio<5,>=3.5.0->openai) (3.4)\n",
      "Requirement already satisfied: certifi in c:\\users\\pushp\\anaconda3\\lib\\site-packages (from httpx<1,>=0.23.0->openai) (2023.11.17)\n",
      "Requirement already satisfied: httpcore==1.* in c:\\users\\pushp\\anaconda3\\lib\\site-packages (from httpx<1,>=0.23.0->openai) (1.0.5)\n",
      "Requirement already satisfied: h11<0.15,>=0.13 in c:\\users\\pushp\\anaconda3\\lib\\site-packages (from httpcore==1.*->httpx<1,>=0.23.0->openai) (0.14.0)\n",
      "Requirement already satisfied: colorama in c:\\users\\pushp\\anaconda3\\lib\\site-packages (from tqdm>4->openai) (0.4.6)\n"
     ]
    }
   ],
   "source": [
    "! pip install openai"
   ]
  },
  {
   "cell_type": "code",
   "execution_count": 1,
   "id": "798bfd16",
   "metadata": {},
   "outputs": [],
   "source": [
    "import openai"
   ]
  },
  {
   "cell_type": "code",
   "execution_count": 2,
   "id": "209f8c72",
   "metadata": {},
   "outputs": [
    {
     "name": "stdout",
     "output_type": "stream",
     "text": [
      "1.14.2\n"
     ]
    }
   ],
   "source": [
    "print(openai.__version__)"
   ]
  },
  {
   "cell_type": "code",
   "execution_count": 3,
   "id": "15804aed",
   "metadata": {},
   "outputs": [],
   "source": [
    "import os"
   ]
  },
  {
   "cell_type": "code",
   "execution_count": 4,
   "id": "cc9b0e0b",
   "metadata": {},
   "outputs": [],
   "source": [
    "from openai import OpenAI"
   ]
  },
  {
   "cell_type": "code",
   "execution_count": 5,
   "id": "e09eb0bc",
   "metadata": {},
   "outputs": [],
   "source": [
    "client = OpenAI() #set your key as env variable"
   ]
  },
  {
   "cell_type": "code",
   "execution_count": 7,
   "id": "1c4e5b92",
   "metadata": {},
   "outputs": [],
   "source": [
    "#from openai import OpenAI\n",
    "#client = OpenAI()\n",
    "\n",
    "completion = client.chat.completions.create(\n",
    "  model=\"gpt-3.5-turbo\",\n",
    "  messages=[\n",
    "    {\"role\": \"system\", \"content\": \"You are a helpful assistant.\"},\n",
    "    {\"role\": \"user\", \"content\": \"Tell me about India!\"}\n",
    "  ]\n",
    ")"
   ]
  },
  {
   "cell_type": "code",
   "execution_count": 17,
   "id": "efcd854f",
   "metadata": {},
   "outputs": [
    {
     "name": "stdout",
     "output_type": "stream",
     "text": [
      "India is a large and diverse country located in South Asia. It is known for its rich history, cultural heritage, and various contributions to art, science, and literature. With a population of over 1.3 billion people, India is the second most populous country in the world.\n",
      "\n",
      "India is known for its vibrant festivals, delicious cuisine, and diverse landscapes ranging from the snowy peaks of the Himalayas to the sandy beaches of Goa. The country is also home to several UNESCO World Heritage Sites, such as the Taj Mahal, Jaipur's Pink City, and the historic monuments of Hampi.\n",
      "\n",
      "India has a mixed economy with agriculture, manufacturing, and services sectors playing a significant role in its growth. The country is also known for its Bollywood film industry, which produces a large number of movies every year.\n",
      "\n",
      "India is a secular country with a rich tapestry of religions and cultures. Hinduism, Islam, Christianity, Sikhism, Buddhism, and Jainism are some of the major religions practiced in India. The country celebrates a number of religious and cultural festivals throughout the year, such as Diwali, Holi, Eid, Christmas, and Durga Puja.\n",
      "\n",
      "Overall, India is a land of contrasts where modernity coexists with tradition, and urban sprawls meet rustic villages. It is a country that will captivate you with its beauty, diversity, and warmth of its people.\n"
     ]
    }
   ],
   "source": [
    "print(completion.choices[0].message.content)"
   ]
  },
  {
   "cell_type": "code",
   "execution_count": 6,
   "id": "1acb8cee",
   "metadata": {},
   "outputs": [],
   "source": [
    "import pandas as pd\n",
    "import numpy as np\n",
    "import matplotlib.pyplot as plt"
   ]
  },
  {
   "cell_type": "code",
   "execution_count": 7,
   "id": "686b6a37",
   "metadata": {},
   "outputs": [],
   "source": [
    "medical_reports = pd.read_csv('reports_copy.csv')"
   ]
  },
  {
   "cell_type": "code",
   "execution_count": 8,
   "id": "a20334b7",
   "metadata": {},
   "outputs": [
    {
     "data": {
      "text/html": [
       "<div>\n",
       "<style scoped>\n",
       "    .dataframe tbody tr th:only-of-type {\n",
       "        vertical-align: middle;\n",
       "    }\n",
       "\n",
       "    .dataframe tbody tr th {\n",
       "        vertical-align: top;\n",
       "    }\n",
       "\n",
       "    .dataframe thead th {\n",
       "        text-align: right;\n",
       "    }\n",
       "</style>\n",
       "<table border=\"1\" class=\"dataframe\">\n",
       "  <thead>\n",
       "    <tr style=\"text-align: right;\">\n",
       "      <th></th>\n",
       "      <th>medical_specialty</th>\n",
       "      <th>report</th>\n",
       "    </tr>\n",
       "  </thead>\n",
       "  <tbody>\n",
       "    <tr>\n",
       "      <th>0</th>\n",
       "      <td>Cardiovascular / Pulmonary</td>\n",
       "      <td>2-D M-MODE: , ,1.  Left atrial enlargement wit...</td>\n",
       "    </tr>\n",
       "    <tr>\n",
       "      <th>1</th>\n",
       "      <td>Cardiovascular / Pulmonary</td>\n",
       "      <td>1.  The left ventricular cavity size and wall ...</td>\n",
       "    </tr>\n",
       "    <tr>\n",
       "      <th>2</th>\n",
       "      <td>Cardiovascular / Pulmonary</td>\n",
       "      <td>2-D ECHOCARDIOGRAM,Multiple views of the heart...</td>\n",
       "    </tr>\n",
       "    <tr>\n",
       "      <th>3</th>\n",
       "      <td>Cardiovascular / Pulmonary</td>\n",
       "      <td>DESCRIPTION:,1.  Normal cardiac chambers size....</td>\n",
       "    </tr>\n",
       "    <tr>\n",
       "      <th>4</th>\n",
       "      <td>Cardiovascular / Pulmonary</td>\n",
       "      <td>2-D STUDY,1. Mild aortic stenosis, widely calc...</td>\n",
       "    </tr>\n",
       "  </tbody>\n",
       "</table>\n",
       "</div>"
      ],
      "text/plain": [
       "            medical_specialty  \\\n",
       "0  Cardiovascular / Pulmonary   \n",
       "1  Cardiovascular / Pulmonary   \n",
       "2  Cardiovascular / Pulmonary   \n",
       "3  Cardiovascular / Pulmonary   \n",
       "4  Cardiovascular / Pulmonary   \n",
       "\n",
       "                                              report  \n",
       "0  2-D M-MODE: , ,1.  Left atrial enlargement wit...  \n",
       "1  1.  The left ventricular cavity size and wall ...  \n",
       "2  2-D ECHOCARDIOGRAM,Multiple views of the heart...  \n",
       "3  DESCRIPTION:,1.  Normal cardiac chambers size....  \n",
       "4  2-D STUDY,1. Mild aortic stenosis, widely calc...  "
      ]
     },
     "execution_count": 8,
     "metadata": {},
     "output_type": "execute_result"
    }
   ],
   "source": [
    "medical_reports.head()"
   ]
  },
  {
   "cell_type": "code",
   "execution_count": 9,
   "id": "31a24310",
   "metadata": {},
   "outputs": [
    {
     "name": "stdout",
     "output_type": "stream",
     "text": [
      "<class 'pandas.core.frame.DataFrame'>\n",
      "RangeIndex: 2179 entries, 0 to 2178\n",
      "Data columns (total 2 columns):\n",
      " #   Column             Non-Null Count  Dtype \n",
      "---  ------             --------------  ----- \n",
      " 0   medical_specialty  2179 non-null   object\n",
      " 1   report             2179 non-null   object\n",
      "dtypes: object(2)\n",
      "memory usage: 34.2+ KB\n"
     ]
    }
   ],
   "source": [
    "medical_reports.info()"
   ]
  },
  {
   "cell_type": "code",
   "execution_count": 10,
   "id": "e49b63a7",
   "metadata": {},
   "outputs": [
    {
     "data": {
      "text/html": [
       "<div>\n",
       "<style scoped>\n",
       "    .dataframe tbody tr th:only-of-type {\n",
       "        vertical-align: middle;\n",
       "    }\n",
       "\n",
       "    .dataframe tbody tr th {\n",
       "        vertical-align: top;\n",
       "    }\n",
       "\n",
       "    .dataframe thead th {\n",
       "        text-align: right;\n",
       "    }\n",
       "</style>\n",
       "<table border=\"1\" class=\"dataframe\">\n",
       "  <thead>\n",
       "    <tr style=\"text-align: right;\">\n",
       "      <th></th>\n",
       "      <th>report</th>\n",
       "    </tr>\n",
       "    <tr>\n",
       "      <th>medical_specialty</th>\n",
       "      <th></th>\n",
       "    </tr>\n",
       "  </thead>\n",
       "  <tbody>\n",
       "    <tr>\n",
       "      <th>Cardiovascular / Pulmonary</th>\n",
       "      <td>371</td>\n",
       "    </tr>\n",
       "    <tr>\n",
       "      <th>Gastroenterology</th>\n",
       "      <td>224</td>\n",
       "    </tr>\n",
       "    <tr>\n",
       "      <th>Neurology</th>\n",
       "      <td>223</td>\n",
       "    </tr>\n",
       "    <tr>\n",
       "      <th>Radiology</th>\n",
       "      <td>273</td>\n",
       "    </tr>\n",
       "    <tr>\n",
       "      <th>Surgery</th>\n",
       "      <td>1088</td>\n",
       "    </tr>\n",
       "  </tbody>\n",
       "</table>\n",
       "</div>"
      ],
      "text/plain": [
       "                            report\n",
       "medical_specialty                 \n",
       "Cardiovascular / Pulmonary     371\n",
       "Gastroenterology               224\n",
       "Neurology                      223\n",
       "Radiology                      273\n",
       "Surgery                       1088"
      ]
     },
     "execution_count": 10,
     "metadata": {},
     "output_type": "execute_result"
    }
   ],
   "source": [
    "medical_reports.groupby('medical_specialty').count()"
   ]
  },
  {
   "cell_type": "code",
   "execution_count": 11,
   "id": "55737796",
   "metadata": {},
   "outputs": [],
   "source": [
    "grouped_data = medical_reports.groupby('medical_specialty').sample(110, random_state=42)"
   ]
  },
  {
   "cell_type": "code",
   "execution_count": 12,
   "id": "f3a55581",
   "metadata": {},
   "outputs": [
    {
     "data": {
      "text/html": [
       "<div>\n",
       "<style scoped>\n",
       "    .dataframe tbody tr th:only-of-type {\n",
       "        vertical-align: middle;\n",
       "    }\n",
       "\n",
       "    .dataframe tbody tr th {\n",
       "        vertical-align: top;\n",
       "    }\n",
       "\n",
       "    .dataframe thead th {\n",
       "        text-align: right;\n",
       "    }\n",
       "</style>\n",
       "<table border=\"1\" class=\"dataframe\">\n",
       "  <thead>\n",
       "    <tr style=\"text-align: right;\">\n",
       "      <th></th>\n",
       "      <th>report</th>\n",
       "    </tr>\n",
       "    <tr>\n",
       "      <th>medical_specialty</th>\n",
       "      <th></th>\n",
       "    </tr>\n",
       "  </thead>\n",
       "  <tbody>\n",
       "    <tr>\n",
       "      <th>Cardiovascular / Pulmonary</th>\n",
       "      <td>110</td>\n",
       "    </tr>\n",
       "    <tr>\n",
       "      <th>Gastroenterology</th>\n",
       "      <td>110</td>\n",
       "    </tr>\n",
       "    <tr>\n",
       "      <th>Neurology</th>\n",
       "      <td>110</td>\n",
       "    </tr>\n",
       "    <tr>\n",
       "      <th>Radiology</th>\n",
       "      <td>110</td>\n",
       "    </tr>\n",
       "    <tr>\n",
       "      <th>Surgery</th>\n",
       "      <td>110</td>\n",
       "    </tr>\n",
       "  </tbody>\n",
       "</table>\n",
       "</div>"
      ],
      "text/plain": [
       "                            report\n",
       "medical_specialty                 \n",
       "Cardiovascular / Pulmonary     110\n",
       "Gastroenterology               110\n",
       "Neurology                      110\n",
       "Radiology                      110\n",
       "Surgery                        110"
      ]
     },
     "execution_count": 12,
     "metadata": {},
     "output_type": "execute_result"
    }
   ],
   "source": [
    "grouped_data.groupby('medical_specialty').count()"
   ]
  },
  {
   "cell_type": "code",
   "execution_count": 13,
   "id": "1aa48712",
   "metadata": {},
   "outputs": [],
   "source": [
    "val_test_data = grouped_data.groupby('medical_specialty').sample(10, random_state=42)"
   ]
  },
  {
   "cell_type": "code",
   "execution_count": 14,
   "id": "5e0c6e83",
   "metadata": {
    "collapsed": true
   },
   "outputs": [
    {
     "data": {
      "text/html": [
       "<div>\n",
       "<style scoped>\n",
       "    .dataframe tbody tr th:only-of-type {\n",
       "        vertical-align: middle;\n",
       "    }\n",
       "\n",
       "    .dataframe tbody tr th {\n",
       "        vertical-align: top;\n",
       "    }\n",
       "\n",
       "    .dataframe thead th {\n",
       "        text-align: right;\n",
       "    }\n",
       "</style>\n",
       "<table border=\"1\" class=\"dataframe\">\n",
       "  <thead>\n",
       "    <tr style=\"text-align: right;\">\n",
       "      <th></th>\n",
       "      <th>medical_specialty</th>\n",
       "      <th>report</th>\n",
       "    </tr>\n",
       "  </thead>\n",
       "  <tbody>\n",
       "    <tr>\n",
       "      <th>2167</th>\n",
       "      <td>Cardiovascular / Pulmonary</td>\n",
       "      <td>HISTORY OF PRESENT ILLNESS:,  I was kindly ask...</td>\n",
       "    </tr>\n",
       "    <tr>\n",
       "      <th>2041</th>\n",
       "      <td>Cardiovascular / Pulmonary</td>\n",
       "      <td>EXAM: , CT chest with contrast.,HISTORY: , Abn...</td>\n",
       "    </tr>\n",
       "    <tr>\n",
       "      <th>1865</th>\n",
       "      <td>Cardiovascular / Pulmonary</td>\n",
       "      <td>INDICATIONS:,  Atrial fibrillation, coronary d...</td>\n",
       "    </tr>\n",
       "    <tr>\n",
       "      <th>1924</th>\n",
       "      <td>Cardiovascular / Pulmonary</td>\n",
       "      <td>MEDICATIONS: , Plavix, atenolol, Lipitor, and ...</td>\n",
       "    </tr>\n",
       "    <tr>\n",
       "      <th>2028</th>\n",
       "      <td>Cardiovascular / Pulmonary</td>\n",
       "      <td>PROCEDURE:,1.  Implantation, dual chamber ICD....</td>\n",
       "    </tr>\n",
       "    <tr>\n",
       "      <th>2016</th>\n",
       "      <td>Cardiovascular / Pulmonary</td>\n",
       "      <td>CLINICAL INDICATION:,  Chest pain.,INTERPRETAT...</td>\n",
       "    </tr>\n",
       "    <tr>\n",
       "      <th>1833</th>\n",
       "      <td>Cardiovascular / Pulmonary</td>\n",
       "      <td>INDICATIONS: , The patient is a 22-year-old fe...</td>\n",
       "    </tr>\n",
       "    <tr>\n",
       "      <th>1932</th>\n",
       "      <td>Cardiovascular / Pulmonary</td>\n",
       "      <td>REASON FOR CONSULTATION: , Loculated left effu...</td>\n",
       "    </tr>\n",
       "    <tr>\n",
       "      <th>1949</th>\n",
       "      <td>Cardiovascular / Pulmonary</td>\n",
       "      <td>PREOPERATIVE DIAGNOSIS:,  Right middle lobe lu...</td>\n",
       "    </tr>\n",
       "    <tr>\n",
       "      <th>1847</th>\n",
       "      <td>Cardiovascular / Pulmonary</td>\n",
       "      <td>POSTOPERATIVE DIAGNOSIS: , Type 4 thoracoabdom...</td>\n",
       "    </tr>\n",
       "    <tr>\n",
       "      <th>1627</th>\n",
       "      <td>Gastroenterology</td>\n",
       "      <td>PREOPERATIVE DIAGNOSIS: , Morbid obesity.,POST...</td>\n",
       "    </tr>\n",
       "    <tr>\n",
       "      <th>1676</th>\n",
       "      <td>Gastroenterology</td>\n",
       "      <td>PREOPERATIVE DIAGNOSIS: , Colovesical fistula....</td>\n",
       "    </tr>\n",
       "    <tr>\n",
       "      <th>1613</th>\n",
       "      <td>Gastroenterology</td>\n",
       "      <td>PROCEDURE PERFORMED: , Nissen fundoplication.,...</td>\n",
       "    </tr>\n",
       "    <tr>\n",
       "      <th>1725</th>\n",
       "      <td>Gastroenterology</td>\n",
       "      <td>ADMITTING DIAGNOSES:,  Hiatal hernia, gastroes...</td>\n",
       "    </tr>\n",
       "    <tr>\n",
       "      <th>1813</th>\n",
       "      <td>Gastroenterology</td>\n",
       "      <td>PREOPERATIVE DIAGNOSES:  ,1.  Congenital chylo...</td>\n",
       "    </tr>\n",
       "    <tr>\n",
       "      <th>1639</th>\n",
       "      <td>Gastroenterology</td>\n",
       "      <td>PREOPERATIVE DIAGNOSIS:,1.  Cholelithiasis.,2....</td>\n",
       "    </tr>\n",
       "    <tr>\n",
       "      <th>1735</th>\n",
       "      <td>Gastroenterology</td>\n",
       "      <td>EXAM: , CT of the abdomen and pelvis without c...</td>\n",
       "    </tr>\n",
       "    <tr>\n",
       "      <th>1781</th>\n",
       "      <td>Gastroenterology</td>\n",
       "      <td>REASON FOR CONSULTATION: , I was asked by Dr. ...</td>\n",
       "    </tr>\n",
       "    <tr>\n",
       "      <th>1670</th>\n",
       "      <td>Gastroenterology</td>\n",
       "      <td>DIAGNOSIS ON ADMISSION: , Gastrointestinal ble...</td>\n",
       "    </tr>\n",
       "    <tr>\n",
       "      <th>1776</th>\n",
       "      <td>Gastroenterology</td>\n",
       "      <td>PROCEDURE:,  Colonoscopy.,PREOPERATIVE DIAGNOS...</td>\n",
       "    </tr>\n",
       "    <tr>\n",
       "      <th>1580</th>\n",
       "      <td>Neurology</td>\n",
       "      <td>CC:, Headache.,HX:, 63 y/o RHF first seen by N...</td>\n",
       "    </tr>\n",
       "    <tr>\n",
       "      <th>1508</th>\n",
       "      <td>Neurology</td>\n",
       "      <td>HISTORY: , The patient is a 52-year-old right-...</td>\n",
       "    </tr>\n",
       "    <tr>\n",
       "      <th>1381</th>\n",
       "      <td>Neurology</td>\n",
       "      <td>TITLE OF OPERATION: , Right suboccipital crani...</td>\n",
       "    </tr>\n",
       "    <tr>\n",
       "      <th>1400</th>\n",
       "      <td>Neurology</td>\n",
       "      <td>PREOPERATIVE DIAGNOSIS:,  Squamous cell carcin...</td>\n",
       "    </tr>\n",
       "    <tr>\n",
       "      <th>1501</th>\n",
       "      <td>Neurology</td>\n",
       "      <td>REFERRING DIAGNOSIS: , Motor neuron disease.,P...</td>\n",
       "    </tr>\n",
       "    <tr>\n",
       "      <th>1459</th>\n",
       "      <td>Neurology</td>\n",
       "      <td>REASON FOR VISIT: , This is a new patient eval...</td>\n",
       "    </tr>\n",
       "    <tr>\n",
       "      <th>1453</th>\n",
       "      <td>Neurology</td>\n",
       "      <td>CC:, Left sided weakness.,HX:, 74 y/o RHF awok...</td>\n",
       "    </tr>\n",
       "    <tr>\n",
       "      <th>1562</th>\n",
       "      <td>Neurology</td>\n",
       "      <td>PREOPERATIVE DIAGNOSIS: , Right chronic subdur...</td>\n",
       "    </tr>\n",
       "    <tr>\n",
       "      <th>1589</th>\n",
       "      <td>Neurology</td>\n",
       "      <td>REASON FOR VISIT: , The patient is a 74-year-o...</td>\n",
       "    </tr>\n",
       "    <tr>\n",
       "      <th>1549</th>\n",
       "      <td>Neurology</td>\n",
       "      <td>PREOPERATIVE DIAGNOSIS:,  Acute left subdural ...</td>\n",
       "    </tr>\n",
       "    <tr>\n",
       "      <th>1163</th>\n",
       "      <td>Radiology</td>\n",
       "      <td>CLINICAL HISTORY: , This is a 64-year-old male...</td>\n",
       "    </tr>\n",
       "    <tr>\n",
       "      <th>1318</th>\n",
       "      <td>Radiology</td>\n",
       "      <td>REASON FOR EXAM: , Right-sided abdominal pain ...</td>\n",
       "    </tr>\n",
       "    <tr>\n",
       "      <th>1192</th>\n",
       "      <td>Radiology</td>\n",
       "      <td>CC:, Left hemibody numbness.,HX:, This 44y/o R...</td>\n",
       "    </tr>\n",
       "    <tr>\n",
       "      <th>1273</th>\n",
       "      <td>Radiology</td>\n",
       "      <td>EXAM: , Modified barium swallow.,SYMPTOM:,  Dy...</td>\n",
       "    </tr>\n",
       "    <tr>\n",
       "      <th>1276</th>\n",
       "      <td>Radiology</td>\n",
       "      <td>EXAM: , CT stone protocol.,REASON FOR EXAM:,  ...</td>\n",
       "    </tr>\n",
       "    <tr>\n",
       "      <th>1129</th>\n",
       "      <td>Radiology</td>\n",
       "      <td>EXAM:  ,Three views of the right foot.,REASON ...</td>\n",
       "    </tr>\n",
       "    <tr>\n",
       "      <th>1314</th>\n",
       "      <td>Radiology</td>\n",
       "      <td>CT ABDOMEN WITH AND WITHOUT CONTRAST AND CT PE...</td>\n",
       "    </tr>\n",
       "    <tr>\n",
       "      <th>1204</th>\n",
       "      <td>Radiology</td>\n",
       "      <td>CC: ,Motor vehicle-bicycle collision.,HX:, A 5...</td>\n",
       "    </tr>\n",
       "    <tr>\n",
       "      <th>1348</th>\n",
       "      <td>Radiology</td>\n",
       "      <td>PROCEDURE PERFORMED:,1.  Selective ascending a...</td>\n",
       "    </tr>\n",
       "    <tr>\n",
       "      <th>1335</th>\n",
       "      <td>Radiology</td>\n",
       "      <td>CC:, Transient visual field loss.,HX: ,This 58...</td>\n",
       "    </tr>\n",
       "    <tr>\n",
       "      <th>758</th>\n",
       "      <td>Surgery</td>\n",
       "      <td>PREOPERATIVE DIAGNOSES:,1.  Right hydronephros...</td>\n",
       "    </tr>\n",
       "    <tr>\n",
       "      <th>253</th>\n",
       "      <td>Surgery</td>\n",
       "      <td>PREOP DIAGNOSES:,1.  Left pilon fracture.,2.  ...</td>\n",
       "    </tr>\n",
       "    <tr>\n",
       "      <th>940</th>\n",
       "      <td>Surgery</td>\n",
       "      <td>PREOPERATIVE DIAGNOSES:,1.  Hallux abductovalg...</td>\n",
       "    </tr>\n",
       "    <tr>\n",
       "      <th>419</th>\n",
       "      <td>Surgery</td>\n",
       "      <td>OPERATION,1.  Right upper lung lobectomy.,2.  ...</td>\n",
       "    </tr>\n",
       "    <tr>\n",
       "      <th>80</th>\n",
       "      <td>Surgery</td>\n",
       "      <td>PREOPERATIVE DIAGNOSIS: ,Degenerative arthriti...</td>\n",
       "    </tr>\n",
       "    <tr>\n",
       "      <th>906</th>\n",
       "      <td>Surgery</td>\n",
       "      <td>PROCEDURE PERFORMED:,1.  Right femoral artery ...</td>\n",
       "    </tr>\n",
       "    <tr>\n",
       "      <th>225</th>\n",
       "      <td>Surgery</td>\n",
       "      <td>HISTORY: , The patient is a 19-year-old boy wi...</td>\n",
       "    </tr>\n",
       "    <tr>\n",
       "      <th>116</th>\n",
       "      <td>Surgery</td>\n",
       "      <td>PREOPERATIVE DIAGNOSIS:,  Rule out temporal ar...</td>\n",
       "    </tr>\n",
       "    <tr>\n",
       "      <th>631</th>\n",
       "      <td>Surgery</td>\n",
       "      <td>PREOPERATIVE DIAGNOSIS: , Right upper eyelid s...</td>\n",
       "    </tr>\n",
       "    <tr>\n",
       "      <th>948</th>\n",
       "      <td>Surgery</td>\n",
       "      <td>OPERATIVE PROCEDURE:,  Bronchoscopy brushings,...</td>\n",
       "    </tr>\n",
       "  </tbody>\n",
       "</table>\n",
       "</div>"
      ],
      "text/plain": [
       "               medical_specialty  \\\n",
       "2167  Cardiovascular / Pulmonary   \n",
       "2041  Cardiovascular / Pulmonary   \n",
       "1865  Cardiovascular / Pulmonary   \n",
       "1924  Cardiovascular / Pulmonary   \n",
       "2028  Cardiovascular / Pulmonary   \n",
       "2016  Cardiovascular / Pulmonary   \n",
       "1833  Cardiovascular / Pulmonary   \n",
       "1932  Cardiovascular / Pulmonary   \n",
       "1949  Cardiovascular / Pulmonary   \n",
       "1847  Cardiovascular / Pulmonary   \n",
       "1627            Gastroenterology   \n",
       "1676            Gastroenterology   \n",
       "1613            Gastroenterology   \n",
       "1725            Gastroenterology   \n",
       "1813            Gastroenterology   \n",
       "1639            Gastroenterology   \n",
       "1735            Gastroenterology   \n",
       "1781            Gastroenterology   \n",
       "1670            Gastroenterology   \n",
       "1776            Gastroenterology   \n",
       "1580                   Neurology   \n",
       "1508                   Neurology   \n",
       "1381                   Neurology   \n",
       "1400                   Neurology   \n",
       "1501                   Neurology   \n",
       "1459                   Neurology   \n",
       "1453                   Neurology   \n",
       "1562                   Neurology   \n",
       "1589                   Neurology   \n",
       "1549                   Neurology   \n",
       "1163                   Radiology   \n",
       "1318                   Radiology   \n",
       "1192                   Radiology   \n",
       "1273                   Radiology   \n",
       "1276                   Radiology   \n",
       "1129                   Radiology   \n",
       "1314                   Radiology   \n",
       "1204                   Radiology   \n",
       "1348                   Radiology   \n",
       "1335                   Radiology   \n",
       "758                      Surgery   \n",
       "253                      Surgery   \n",
       "940                      Surgery   \n",
       "419                      Surgery   \n",
       "80                       Surgery   \n",
       "906                      Surgery   \n",
       "225                      Surgery   \n",
       "116                      Surgery   \n",
       "631                      Surgery   \n",
       "948                      Surgery   \n",
       "\n",
       "                                                 report  \n",
       "2167  HISTORY OF PRESENT ILLNESS:,  I was kindly ask...  \n",
       "2041  EXAM: , CT chest with contrast.,HISTORY: , Abn...  \n",
       "1865  INDICATIONS:,  Atrial fibrillation, coronary d...  \n",
       "1924  MEDICATIONS: , Plavix, atenolol, Lipitor, and ...  \n",
       "2028  PROCEDURE:,1.  Implantation, dual chamber ICD....  \n",
       "2016  CLINICAL INDICATION:,  Chest pain.,INTERPRETAT...  \n",
       "1833  INDICATIONS: , The patient is a 22-year-old fe...  \n",
       "1932  REASON FOR CONSULTATION: , Loculated left effu...  \n",
       "1949  PREOPERATIVE DIAGNOSIS:,  Right middle lobe lu...  \n",
       "1847  POSTOPERATIVE DIAGNOSIS: , Type 4 thoracoabdom...  \n",
       "1627  PREOPERATIVE DIAGNOSIS: , Morbid obesity.,POST...  \n",
       "1676  PREOPERATIVE DIAGNOSIS: , Colovesical fistula....  \n",
       "1613  PROCEDURE PERFORMED: , Nissen fundoplication.,...  \n",
       "1725  ADMITTING DIAGNOSES:,  Hiatal hernia, gastroes...  \n",
       "1813  PREOPERATIVE DIAGNOSES:  ,1.  Congenital chylo...  \n",
       "1639  PREOPERATIVE DIAGNOSIS:,1.  Cholelithiasis.,2....  \n",
       "1735  EXAM: , CT of the abdomen and pelvis without c...  \n",
       "1781  REASON FOR CONSULTATION: , I was asked by Dr. ...  \n",
       "1670  DIAGNOSIS ON ADMISSION: , Gastrointestinal ble...  \n",
       "1776  PROCEDURE:,  Colonoscopy.,PREOPERATIVE DIAGNOS...  \n",
       "1580  CC:, Headache.,HX:, 63 y/o RHF first seen by N...  \n",
       "1508  HISTORY: , The patient is a 52-year-old right-...  \n",
       "1381  TITLE OF OPERATION: , Right suboccipital crani...  \n",
       "1400  PREOPERATIVE DIAGNOSIS:,  Squamous cell carcin...  \n",
       "1501  REFERRING DIAGNOSIS: , Motor neuron disease.,P...  \n",
       "1459  REASON FOR VISIT: , This is a new patient eval...  \n",
       "1453  CC:, Left sided weakness.,HX:, 74 y/o RHF awok...  \n",
       "1562  PREOPERATIVE DIAGNOSIS: , Right chronic subdur...  \n",
       "1589  REASON FOR VISIT: , The patient is a 74-year-o...  \n",
       "1549  PREOPERATIVE DIAGNOSIS:,  Acute left subdural ...  \n",
       "1163  CLINICAL HISTORY: , This is a 64-year-old male...  \n",
       "1318  REASON FOR EXAM: , Right-sided abdominal pain ...  \n",
       "1192  CC:, Left hemibody numbness.,HX:, This 44y/o R...  \n",
       "1273  EXAM: , Modified barium swallow.,SYMPTOM:,  Dy...  \n",
       "1276  EXAM: , CT stone protocol.,REASON FOR EXAM:,  ...  \n",
       "1129  EXAM:  ,Three views of the right foot.,REASON ...  \n",
       "1314  CT ABDOMEN WITH AND WITHOUT CONTRAST AND CT PE...  \n",
       "1204  CC: ,Motor vehicle-bicycle collision.,HX:, A 5...  \n",
       "1348  PROCEDURE PERFORMED:,1.  Selective ascending a...  \n",
       "1335  CC:, Transient visual field loss.,HX: ,This 58...  \n",
       "758   PREOPERATIVE DIAGNOSES:,1.  Right hydronephros...  \n",
       "253   PREOP DIAGNOSES:,1.  Left pilon fracture.,2.  ...  \n",
       "940   PREOPERATIVE DIAGNOSES:,1.  Hallux abductovalg...  \n",
       "419   OPERATION,1.  Right upper lung lobectomy.,2.  ...  \n",
       "80    PREOPERATIVE DIAGNOSIS: ,Degenerative arthriti...  \n",
       "906   PROCEDURE PERFORMED:,1.  Right femoral artery ...  \n",
       "225   HISTORY: , The patient is a 19-year-old boy wi...  \n",
       "116   PREOPERATIVE DIAGNOSIS:,  Rule out temporal ar...  \n",
       "631   PREOPERATIVE DIAGNOSIS: , Right upper eyelid s...  \n",
       "948   OPERATIVE PROCEDURE:,  Bronchoscopy brushings,...  "
      ]
     },
     "execution_count": 14,
     "metadata": {},
     "output_type": "execute_result"
    }
   ],
   "source": [
    "val_test_data"
   ]
  },
  {
   "cell_type": "code",
   "execution_count": 15,
   "id": "b8dd1b25",
   "metadata": {},
   "outputs": [],
   "source": [
    "#val_test_data['medical_specialty'].value_counts()\n",
    "\n",
    "val = val_test_data.groupby('medical_specialty').head(5)\n",
    "test = val_test_data.groupby('medical_specialty').tail(5)"
   ]
  },
  {
   "cell_type": "code",
   "execution_count": 16,
   "id": "c94e8f4c",
   "metadata": {},
   "outputs": [],
   "source": [
    "train = grouped_data[~grouped_data.index.isin(val_test_data.index)]"
   ]
  },
  {
   "cell_type": "code",
   "execution_count": 17,
   "id": "79d16878",
   "metadata": {},
   "outputs": [
    {
     "data": {
      "text/plain": [
       "Cardiovascular / Pulmonary    100\n",
       "Gastroenterology              100\n",
       "Neurology                     100\n",
       "Radiology                     100\n",
       "Surgery                       100\n",
       "Name: medical_specialty, dtype: int64"
      ]
     },
     "execution_count": 17,
     "metadata": {},
     "output_type": "execute_result"
    }
   ],
   "source": [
    "train['medical_specialty'].value_counts()"
   ]
  },
  {
   "cell_type": "code",
   "execution_count": 18,
   "id": "0d7716ce",
   "metadata": {},
   "outputs": [],
   "source": [
    "import tiktoken"
   ]
  },
  {
   "cell_type": "code",
   "execution_count": 19,
   "id": "5f7aea8e",
   "metadata": {},
   "outputs": [],
   "source": [
    "def num_of_token_from_string(string):\n",
    "    \n",
    "    encoding = tiktoken.get_encoding(\"cl100k_base\")\n",
    "    num_tokens = len(encoding.encode(string))\n",
    "    return num_tokens"
   ]
  },
  {
   "cell_type": "code",
   "execution_count": 20,
   "id": "4e21f0f6",
   "metadata": {},
   "outputs": [
    {
     "data": {
      "text/plain": [
       "4"
      ]
     },
     "execution_count": 20,
     "metadata": {},
     "output_type": "execute_result"
    }
   ],
   "source": [
    "num_of_token_from_string('hello how are you')"
   ]
  },
  {
   "cell_type": "code",
   "execution_count": 21,
   "id": "c77de688",
   "metadata": {},
   "outputs": [],
   "source": [
    "reports_length = train['report'].apply(num_of_token_from_string)"
   ]
  },
  {
   "cell_type": "code",
   "execution_count": 22,
   "id": "42503358",
   "metadata": {},
   "outputs": [
    {
     "data": {
      "text/plain": [
       "count     500.000000\n",
       "mean      674.788000\n",
       "std       427.809075\n",
       "min        14.000000\n",
       "25%       358.000000\n",
       "50%       593.500000\n",
       "75%       904.000000\n",
       "max      3701.000000\n",
       "Name: report, dtype: float64"
      ]
     },
     "execution_count": 22,
     "metadata": {},
     "output_type": "execute_result"
    }
   ],
   "source": [
    "reports_length.describe()"
   ]
  },
  {
   "cell_type": "code",
   "execution_count": 23,
   "id": "abf4d7b3",
   "metadata": {},
   "outputs": [],
   "source": [
    "price_model = 0.008"
   ]
  },
  {
   "cell_type": "code",
   "execution_count": 24,
   "id": "5102cfdb",
   "metadata": {},
   "outputs": [],
   "source": [
    "price_per_epoch = reports_length.sum() * 0.008/1000"
   ]
  },
  {
   "cell_type": "code",
   "execution_count": 25,
   "id": "7f39bb89",
   "metadata": {},
   "outputs": [
    {
     "data": {
      "text/plain": [
       "2.699152"
      ]
     },
     "execution_count": 25,
     "metadata": {},
     "output_type": "execute_result"
    }
   ],
   "source": [
    "price_per_epoch"
   ]
  },
  {
   "cell_type": "code",
   "execution_count": 26,
   "id": "237effdc",
   "metadata": {},
   "outputs": [],
   "source": [
    "system_prompt = \"Given the medical description report, classify it into one of these categories: \" + \\\n",
    "                 \"[Cardiovascular / Pulmonary, Gastroenterology, Neurology, Radiology, Surgery]\""
   ]
  },
  {
   "cell_type": "code",
   "execution_count": 36,
   "id": "0e37f9e0",
   "metadata": {},
   "outputs": [],
   "source": [
    "message_prompt = {\"messages\":[{\"role\":\"system\", \"content\":system_prompt},\n",
    "                              {\"role\":\"user\", \"content\":train['report'].iloc[0]},\n",
    "                              {\"role\":\"assistant\", \"content\":test['medical_specialty'].iloc[0]}]}"
   ]
  },
  {
   "cell_type": "code",
   "execution_count": 28,
   "id": "56764946",
   "metadata": {},
   "outputs": [
    {
     "name": "stdout",
     "output_type": "stream",
     "text": [
      "{'messages': [{'role': 'system', 'content': 'Given the medical description report, classify it into one of these categories: [Cardiovascular / Pulmonary, Gastroenterology, Neurology, Radiology, Surgery]'}, {'role': 'system', 'content': \"PREOPERATIVE DIAGNOSES:,1.  Lumbar osteomyelitis.,2.  Need for durable central intravenous access.,POSTOPERATIVE DIAGNOSES:,1.  Lumbar osteomyelitis.,2.  Need for durable central intravenous access.,ANESTHESIA:,  General.,PROCEDURE:,  Placement of left subclavian 4-French Broviac catheter.,INDICATIONS:  ,The patient is a toddler admitted with a limp and back pain, who was eventually found on bone scan and septic workup to have probable osteomyelitis of the lumbar spine at disk areas.  The patient needs prolonged IV antibiotic therapy, but attempt at a PICC line failed.  She has exhausted most of her easy peripheral IV access routes and referral was made to the Pediatric Surgery Service for Broviac placement.  I met with the patient's mom.  With the help of a Spanish interpreter, I explained the technique for Broviac placement.  We discussed the surgical risks and alternatives, most of which have been exhausted.  All their questions have been answered, and the patient is fit for operation today.,DESCRIPTION OF OPERATION:  ,The patient came to the operating room and had an uneventful induction of general anesthesia.  We conducted a surgical time-out to reiterate all of the patient's important identifying information and to confirm that we were here to place the Broviac catheter.  Preparation and draping of her skin was performed with chlorhexidine based prep solution and then an infraclavicular approach to left subclavian vein was performed.  A flexible guidewire was inserted into the central location and then a 4-French Broviac catheter was tunneled through the subcutaneous tissues and exiting on the right anterolateral chest wall well below and lateral to the breast and pectoralis major margins.  The catheter was brought to the subclavian insertion site and trimmed so that the tip would lie at the junction of the superior vena cava and right atrium based on fluoroscopic guidelines.  The peel-away sheath was passed over the guidewire and then the 4-French catheter was deployed through the peel-away sheath.  There was easy blood return and fluoroscopic imaging showed initially the catheter had transited across the mediastinum up the opposite subclavian vein, then it was withdrawn and easily replaced in the superior vena cava.  The catheter insertion site was closed with one buried 5-0 Monocryl stitch and the same 5-0 Monocryl was used to tether the catheter at the exit site until fibrous ingrowth of the attached cuff has occurred.  Heparinized saline solution was used to flush the line.  A sterile occlusive dressing was applied, and the line was prepared for immediate use.  The patient was transported to the recovery room in good condition.  There were no intraoperative complications, and her blood loss was between 5 and 10 mL during the line placement portion of the procedure.\"}, {'role': 'system', 'content': 'Cardiovascular / Pulmonary'}]}\n"
     ]
    }
   ],
   "source": [
    "print(message_prompt)"
   ]
  },
  {
   "cell_type": "code",
   "execution_count": 29,
   "id": "4deabe05",
   "metadata": {},
   "outputs": [],
   "source": [
    "def df_to_format(df):\n",
    "    \n",
    "    messages = []\n",
    "    \n",
    "    for index, row in df.iterrows():\n",
    "        \n",
    "        message_prompt = {\"messages\":[{\"role\":\"system\", \"content\":system_prompt},\n",
    "                                      {\"role\":\"user\", \"content\":row['report']},\n",
    "                                      {\"role\":\"assistant\", \"content\":row['medical_specialty']}]}\n",
    "                                      \n",
    "                                      \n",
    "        messages.append(message_prompt)\n",
    "    return messages\n",
    "    "
   ]
  },
  {
   "cell_type": "code",
   "execution_count": 30,
   "id": "49d7ac3b",
   "metadata": {},
   "outputs": [],
   "source": [
    "data = df_to_format(train)"
   ]
  },
  {
   "cell_type": "code",
   "execution_count": 31,
   "id": "d25a840e",
   "metadata": {},
   "outputs": [
    {
     "name": "stdout",
     "output_type": "stream",
     "text": [
      "{'messages': [{'role': 'system', 'content': 'Given the medical description report, classify it into one of these categories: [Cardiovascular / Pulmonary, Gastroenterology, Neurology, Radiology, Surgery]'}, {'role': 'user', 'content': \"EXAM: , Coronary artery CTA with calcium scoring and cardiac function.,HISTORY: , Chest pain.,TECHNIQUE AND FINDINGS: , Coronary artery CTA was performed on a Siemens dual-source CT scanner.  Post-processing on a Vitrea workstation.  150 mL Ultravist 370 was utilized as the intravenous contrast agent.  Patient did receive nitroglycerin sublingually prior to the contrast.,HISTORY: , Significant for high cholesterol, overweight, chest pain, family history,Patient's total calcium score (Agatston) is 10. his places the patient just below the 75th percentile for age.,The LAD has a moderate area of stenosis in its midportion due to a focal calcified plaque.  The distal LAD was unreadable while the proximal was normal.  The mid and distal right coronary artery are not well delineated due to beam-hardening artifact.  The circumflex is diminutive in size along its proximal portion.  Distal is not readable.,Cardiac wall motion within normal limits.  No gross pulmonary artery abnormality however they are not well delineated.  A full report was placed on the patient's chart.  Report was saved to PACS.\"}, {'role': 'assistant', 'content': 'Cardiovascular / Pulmonary'}]}\n"
     ]
    }
   ],
   "source": [
    "print(data[4])"
   ]
  },
  {
   "cell_type": "code",
   "execution_count": 32,
   "id": "b82242ab",
   "metadata": {},
   "outputs": [],
   "source": [
    "import json"
   ]
  },
  {
   "cell_type": "code",
   "execution_count": 33,
   "id": "18b21549",
   "metadata": {},
   "outputs": [],
   "source": [
    "with open('fine_tune_data_v2.jsonl','w') as f:\n",
    "    for entry in data:\n",
    "        f.write(json.dumps(entry))\n",
    "        f.write(\"\\n\")"
   ]
  },
  {
   "cell_type": "code",
   "execution_count": 34,
   "id": "04fd74b0",
   "metadata": {},
   "outputs": [],
   "source": [
    "val_data = df_to_format(val)"
   ]
  },
  {
   "cell_type": "code",
   "execution_count": 35,
   "id": "e29f0420",
   "metadata": {},
   "outputs": [],
   "source": [
    "with open('fine_tuning_data_val_v2.jsonl','w') as f:\n",
    "    for entry in val_data:\n",
    "        f.write(json.dumps(entry))\n",
    "        f.write(\"\\n\")"
   ]
  },
  {
   "cell_type": "code",
   "execution_count": 38,
   "id": "c8565480",
   "metadata": {},
   "outputs": [
    {
     "data": {
      "text/plain": [
       "<_io.TextIOWrapper name='fine_tune_data_v2.jsonl' mode='r' encoding='cp1252'>"
      ]
     },
     "execution_count": 38,
     "metadata": {},
     "output_type": "execute_result"
    }
   ],
   "source": [
    "open('fine_tune_data_v2.jsonl')"
   ]
  },
  {
   "cell_type": "code",
   "execution_count": 37,
   "id": "78e3e103",
   "metadata": {},
   "outputs": [],
   "source": [
    "file_upload_response = client.files.create(file = open('fine_tune_data_v2.jsonl', 'rb'),\n",
    "                                          purpose='fine-tune')"
   ]
  },
  {
   "cell_type": "code",
   "execution_count": 39,
   "id": "a61aba93",
   "metadata": {},
   "outputs": [
    {
     "data": {
      "text/plain": [
       "FileObject(id='file-FFEm13jY4t72A6wQWTNlWX60', bytes=1544122, created_at=1718500667, filename='fine_tune_data_v2.jsonl', object='file', purpose='fine-tune', status='processed', status_details=None)"
      ]
     },
     "execution_count": 39,
     "metadata": {},
     "output_type": "execute_result"
    }
   ],
   "source": [
    "file_upload_response"
   ]
  },
  {
   "cell_type": "code",
   "execution_count": 40,
   "id": "6d736fe1",
   "metadata": {},
   "outputs": [],
   "source": [
    "file_upload_response_val = client.files.create(file=open('fine_tuning_data_val_v2.jsonl','rb'),\n",
    "                                              purpose='fine-tune')"
   ]
  },
  {
   "cell_type": "code",
   "execution_count": 41,
   "id": "55804de6",
   "metadata": {},
   "outputs": [
    {
     "data": {
      "text/plain": [
       "FileObject(id='file-rsvoD2rnAxiYk4wJ4aJ2aSV4', bytes=101509, created_at=1718501016, filename='fine_tuning_data_val_v2.jsonl', object='file', purpose='fine-tune', status='processed', status_details=None)"
      ]
     },
     "execution_count": 41,
     "metadata": {},
     "output_type": "execute_result"
    }
   ],
   "source": [
    "file_upload_response_val"
   ]
  },
  {
   "cell_type": "code",
   "execution_count": 42,
   "id": "31a1af52",
   "metadata": {},
   "outputs": [],
   "source": [
    "fine_tuning_respose = client.fine_tuning.jobs.create(training_file=file_upload_response.id,\n",
    "                                                    model='gpt-3.5-turbo',\n",
    "                                                    hyperparameters={'n_epochs':1},\n",
    "                                                    validation_file=file_upload_response_val.id)"
   ]
  },
  {
   "cell_type": "code",
   "execution_count": 43,
   "id": "dba50e08",
   "metadata": {},
   "outputs": [
    {
     "data": {
      "text/plain": [
       "FineTuningJob(id='ftjob-dEYR5O0iDOvsyyG9leWX5FT7', created_at=1718501377, error=Error(code=None, message=None, param=None), fine_tuned_model=None, finished_at=None, hyperparameters=Hyperparameters(n_epochs=1, batch_size='auto', learning_rate_multiplier='auto'), model='gpt-3.5-turbo-0125', object='fine_tuning.job', organization_id='org-Oe3dPFBB1ZiqizpTQTn9zAEQ', result_files=[], status='validating_files', trained_tokens=None, training_file='file-FFEm13jY4t72A6wQWTNlWX60', validation_file='file-rsvoD2rnAxiYk4wJ4aJ2aSV4', user_provided_suffix=None, seed=1353216648, estimated_finish=None, integrations=[])"
      ]
     },
     "execution_count": 43,
     "metadata": {},
     "output_type": "execute_result"
    }
   ],
   "source": [
    "fine_tuning_respose"
   ]
  },
  {
   "cell_type": "code",
   "execution_count": 44,
   "id": "4d4d54c4",
   "metadata": {},
   "outputs": [
    {
     "data": {
      "text/plain": [
       "SyncCursorPage[FineTuningJob](data=[FineTuningJob(id='ftjob-dEYR5O0iDOvsyyG9leWX5FT7', created_at=1718501377, error=Error(code=None, message=None, param=None), fine_tuned_model=None, finished_at=None, hyperparameters=Hyperparameters(n_epochs=1, batch_size=1, learning_rate_multiplier=2), model='gpt-3.5-turbo-0125', object='fine_tuning.job', organization_id='org-Oe3dPFBB1ZiqizpTQTn9zAEQ', result_files=[], status='running', trained_tokens=None, training_file='file-FFEm13jY4t72A6wQWTNlWX60', validation_file='file-rsvoD2rnAxiYk4wJ4aJ2aSV4', user_provided_suffix=None, seed=1353216648, estimated_finish=1718503576, integrations=[])], object='list', has_more=False)"
      ]
     },
     "execution_count": 44,
     "metadata": {},
     "output_type": "execute_result"
    }
   ],
   "source": [
    "client.fine_tuning.jobs.list()"
   ]
  },
  {
   "cell_type": "code",
   "execution_count": 46,
   "id": "a9ecbb44",
   "metadata": {},
   "outputs": [],
   "source": [
    "train_events = client.fine_tuning.jobs.list_events(fine_tuning_job_id='ftjob-dEYR5O0iDOvsyyG9leWX5FT7')"
   ]
  },
  {
   "cell_type": "code",
   "execution_count": 60,
   "id": "dd18d2fa",
   "metadata": {},
   "outputs": [
    {
     "data": {
      "text/plain": [
       "4.76837158203125e-07"
      ]
     },
     "execution_count": 60,
     "metadata": {},
     "output_type": "execute_result"
    }
   ],
   "source": [
    "train_events.data[2].data['valid_loss']"
   ]
  },
  {
   "cell_type": "code",
   "execution_count": 68,
   "id": "1b81d833",
   "metadata": {},
   "outputs": [],
   "source": [
    "train_loss = []\n",
    "val_loss = []\n",
    "\n",
    "for item in train_events.data:\n",
    "    \n",
    "    train_data = item.data\n",
    "    \n",
    "    if train_data:\n",
    "        if 'train_loss' in train_data:\n",
    "            train_loss.append(train_data['train_loss'])\n",
    "            \n",
    "        if 'valid_loss' in train_data:\n",
    "            val_loss.append(train_data['valid_loss'])\n",
    "            \n",
    "train_loss.reverse()\n",
    "val_loss.reverse()     "
   ]
  },
  {
   "cell_type": "code",
   "execution_count": 70,
   "id": "98d3dbc8",
   "metadata": {},
   "outputs": [
    {
     "data": {
      "text/plain": [
       "18"
      ]
     },
     "execution_count": 70,
     "metadata": {},
     "output_type": "execute_result"
    }
   ],
   "source": [
    "len(train_loss)"
   ]
  },
  {
   "cell_type": "code",
   "execution_count": 71,
   "id": "2af659b2",
   "metadata": {},
   "outputs": [
    {
     "data": {
      "text/plain": [
       "[<matplotlib.lines.Line2D at 0x1455dcca530>]"
      ]
     },
     "execution_count": 71,
     "metadata": {},
     "output_type": "execute_result"
    },
    {
     "data": {
      "image/png": "[encoded data removed]",
      "text/plain": [
       "<Figure size 640x480 with 1 Axes>"
      ]
     },
     "metadata": {},
     "output_type": "display_data"
    }
   ],
   "source": [
    "import matplotlib.pyplot as plt\n",
    "plt.figure()\n",
    "plt.plot(train_loss)\n",
    "plt.plot(val_loss)"
   ]
  },
  {
   "cell_type": "code",
   "execution_count": 75,
   "id": "bb806d70",
   "metadata": {},
   "outputs": [],
   "source": [
    "test_report = test['report'].iloc[1]"
   ]
  },
  {
   "cell_type": "code",
   "execution_count": 78,
   "id": "e8cface8",
   "metadata": {},
   "outputs": [
    {
     "data": {
      "text/plain": [
       "ChatCompletion(id='chatcmpl-9aZqTFFnJHYyNfzXjITztsOoPZBJ2', choices=[Choice(finish_reason='stop', index=0, logprobs=None, message=ChatCompletionMessage(content='Cardiovascular / Pulmonary', role='assistant', function_call=None, tool_calls=None))], created=1718504625, model='ft:gpt-3.5-turbo-0125:personal::9aZJEjmG', object='chat.completion', system_fingerprint=None, usage=CompletionUsage(completion_tokens=6, prompt_tokens=309, total_tokens=315))"
      ]
     },
     "execution_count": 78,
     "metadata": {},
     "output_type": "execute_result"
    }
   ],
   "source": [
    "completion = client.chat.completions.create(model = 'ft:gpt-3.5-turbo-0125:personal::9aZJEjmG',\n",
    "                              messages=[\n",
    "                                  {\"role\":\"system\",\"content\":system_prompt},\n",
    "                                  {\"role\":\"user\",\"content\":test_report}])"
   ]
  },
  {
   "cell_type": "code",
   "execution_count": null,
   "id": "90b36946",
   "metadata": {},
   "outputs": [],
   "source": []
  }
 ],
 "metadata": {
  "kernelspec": {
   "display_name": "Python 3 (ipykernel)",
   "language": "python",
   "name": "python3"
  },
  "language_info": {
   "codemirror_mode": {
    "name": "ipython",
    "version": 3
   },
   "file_extension": ".py",
   "mimetype": "text/x-python",
   "name": "python",
   "nbconvert_exporter": "python",
   "pygments_lexer": "ipython3",
   "version": "3.10.9"
  }
 },
 "nbformat": 4,
 "nbformat_minor": 5
}
