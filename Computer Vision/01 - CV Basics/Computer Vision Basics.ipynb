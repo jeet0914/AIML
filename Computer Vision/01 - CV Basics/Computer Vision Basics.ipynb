{
 "cells": [
  {
   "cell_type": "code",
   "execution_count": 3,
   "id": "b4f6142b-fba9-4372-989f-98ae3bd1e8db",
   "metadata": {},
   "outputs": [],
   "source": [
    "import cv2\n",
    "\n",
    "\n",
    "def create_circle(event, x, y, flags, param):\n",
    "   \n",
    "    global center_cir, clicked\n",
    "    \n",
    "    \n",
    "    if event == cv2.EVENT_LBUTTONDOWN:\n",
    "        center_cir = (x,y)\n",
    "        clicked = True\n",
    "    \n",
    "    \n",
    "\n",
    "\n",
    "cap = cv2.VideoCapture(0)\n",
    "center_cir = (0,0)\n",
    "clicked = False\n",
    "\n",
    "cv2.namedWindow('mywin')\n",
    "cv2.setMouseCallback('mywin', create_circle)\n",
    "\n",
    "while True:\n",
    "    \n",
    "    ret, frame = cap.read()\n",
    "    \n",
    "    if clicked == True:\n",
    "        cv2.circle(frame, center = center_cir, radius = 10, color = (0,255,0), thickness = 3)\n",
    "    \n",
    "    cv2.imshow('mywin', frame)\n",
    "    \n",
    "    if cv2.waitKey(10) & 0xFF == 27:\n",
    "        break\n",
    "\n",
    "cap.release()        \n",
    "cv2.destroyAllWindows()\n",
    "    \n",
    "\n",
    "\n"
   ]
  },
  {
   "cell_type": "code",
   "execution_count": null,
   "id": "2be2f9b6-f2cb-4e05-a60b-a4c912a829f8",
   "metadata": {},
   "outputs": [],
   "source": []
  }
 ],
 "metadata": {
  "kernelspec": {
   "display_name": "Python 3 (ipykernel)",
   "language": "python",
   "name": "python3"
  },
  "language_info": {
   "codemirror_mode": {
    "name": "ipython",
    "version": 3
   },
   "file_extension": ".py",
   "mimetype": "text/x-python",
   "name": "python",
   "nbconvert_exporter": "python",
   "pygments_lexer": "ipython3",
   "version": "3.10.9"
  }
 },
 "nbformat": 4,
 "nbformat_minor": 5
}
